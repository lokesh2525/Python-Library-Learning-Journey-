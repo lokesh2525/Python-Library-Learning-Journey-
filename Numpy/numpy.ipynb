{
 "cells": [
  {
   "cell_type": "code",
   "execution_count": 1,
   "id": "c1678033",
   "metadata": {},
   "outputs": [],
   "source": [
    "import numpy as np"
   ]
  },
  {
   "cell_type": "code",
   "execution_count": 4,
   "id": "4730fbad",
   "metadata": {},
   "outputs": [
    {
     "name": "stdout",
     "output_type": "stream",
     "text": [
      "[1 2 3 4]\n"
     ]
    },
    {
     "data": {
      "text/plain": [
       "numpy.ndarray"
      ]
     },
     "execution_count": 4,
     "metadata": {},
     "output_type": "execute_result"
    }
   ],
   "source": [
    "x=np.array([1,2,3,4])\n",
    "print(x)\n",
    "type(x)"
   ]
  },
  {
   "cell_type": "code",
   "execution_count": 5,
   "id": "378e1ec8",
   "metadata": {},
   "outputs": [
    {
     "name": "stdout",
     "output_type": "stream",
     "text": [
      "[1, 2, 3, 4]\n"
     ]
    },
    {
     "data": {
      "text/plain": [
       "list"
      ]
     },
     "execution_count": 5,
     "metadata": {},
     "output_type": "execute_result"
    }
   ],
   "source": [
    "y=[1,2,3,4]\n",
    "print(y)\n",
    "type(y)"
   ]
  },
  {
   "cell_type": "code",
   "execution_count": 8,
   "id": "af9392a6",
   "metadata": {},
   "outputs": [
    {
     "name": "stdout",
     "output_type": "stream",
     "text": [
      "2.16 µs ± 54.5 ns per loop (mean ± std. dev. of 7 runs, 100,000 loops each)\n"
     ]
    }
   ],
   "source": [
    "%timeit [i**4 for i in range(1,9)]"
   ]
  },
  {
   "cell_type": "code",
   "execution_count": 12,
   "id": "e2a118e2",
   "metadata": {},
   "outputs": [
    {
     "name": "stdout",
     "output_type": "stream",
     "text": [
      "5.03 µs ± 142 ns per loop (mean ± std. dev. of 7 runs, 100,000 loops each)\n"
     ]
    }
   ],
   "source": [
    "%timeit np.arange(1,9)*4"
   ]
  },
  {
   "cell_type": "code",
   "execution_count": 16,
   "id": "7d9a5f0f",
   "metadata": {},
   "outputs": [
    {
     "name": "stdout",
     "output_type": "stream",
     "text": [
      "Enter:1\n",
      "Enter:2\n",
      "Enter:3\n",
      "Enter:4\n",
      "['1' '2' '3' '4']\n"
     ]
    }
   ],
   "source": [
    "l=[]\n",
    "for i in range(1,5):\n",
    "    int=int(input(\"Enter:\"))\n",
    "    l.append(int)\n",
    "\n",
    "print(np.array(l))"
   ]
  },
  {
   "cell_type": "markdown",
   "id": "2fe3a7cd",
   "metadata": {},
   "source": [
    " ar2=np.array([[1,2,3],[)"
   ]
  },
  {
   "cell_type": "code",
   "execution_count": 20,
   "id": "83c4bc6e",
   "metadata": {},
   "outputs": [
    {
     "name": "stdout",
     "output_type": "stream",
     "text": [
      "[[1 2 3]\n",
      " [1 2 3]]\n",
      "2\n",
      "[list([1, 2, 3]) list([1, 2, 3, 4])]\n",
      "1\n"
     ]
    },
    {
     "name": "stderr",
     "output_type": "stream",
     "text": [
      "C:\\Users\\lokes\\AppData\\Local\\Temp\\ipykernel_6572\\1557427733.py:5: VisibleDeprecationWarning: Creating an ndarray from ragged nested sequences (which is a list-or-tuple of lists-or-tuples-or ndarrays with different lengths or shapes) is deprecated. If you meant to do this, you must specify 'dtype=object' when creating the ndarray.\n",
      "  ar2=np.array([[1,2,3],[1,2,3,4]])\n"
     ]
    }
   ],
   "source": [
    "ar2=np.array([[1,2,3],[1,2,3]])\n",
    "print(ar2)\n",
    "print(ar2.ndim)\n",
    "\n",
    "ar2=np.array([[1,2,3],[1,2,3,4]])\n",
    "print(ar2)\n",
    "print(ar2.ndim)"
   ]
  },
  {
   "cell_type": "code",
   "execution_count": 22,
   "id": "9e787d8a",
   "metadata": {},
   "outputs": [
    {
     "name": "stdout",
     "output_type": "stream",
     "text": [
      "[[[1 2 3]\n",
      "  [1 2 3]\n",
      "  [1 2 3]]]\n",
      "3\n"
     ]
    }
   ],
   "source": [
    "ar3=np.array([[[1,2,3],[1,2,3],[1,2,3]]])\n",
    "print(ar3)\n",
    "print(ar3.ndim)"
   ]
  },
  {
   "cell_type": "code",
   "execution_count": 24,
   "id": "29438f8a",
   "metadata": {},
   "outputs": [
    {
     "name": "stdout",
     "output_type": "stream",
     "text": [
      "[[[[[[[[[[1 2 3]]]]]]]]]]\n",
      "10\n"
     ]
    }
   ],
   "source": [
    "ar=np.array([1,2,3],ndmin=10)\n",
    "print(ar)\n",
    "print(ar.ndim)"
   ]
  },
  {
   "cell_type": "code",
   "execution_count": 27,
   "id": "451c850e",
   "metadata": {},
   "outputs": [
    {
     "name": "stdout",
     "output_type": "stream",
     "text": [
      "[0. 0. 0. 0.]\n",
      "\n",
      "[[0. 0. 0. 0.]\n",
      " [0. 0. 0. 0.]\n",
      " [0. 0. 0. 0.]]\n"
     ]
    }
   ],
   "source": [
    "ar_zeros=np.zeros(4)\n",
    "ar1_zeros=np.zeros((3,4))\n",
    "print(ar_zeros)\n",
    "print()\n",
    "print(ar1_zeros)"
   ]
  },
  {
   "cell_type": "code",
   "execution_count": 28,
   "id": "8fdb51c2",
   "metadata": {},
   "outputs": [
    {
     "name": "stdout",
     "output_type": "stream",
     "text": [
      "[1. 1. 1. 1.]\n",
      "\n",
      "[[1. 1. 1. 1.]\n",
      " [1. 1. 1. 1.]\n",
      " [1. 1. 1. 1.]]\n"
     ]
    }
   ],
   "source": [
    "ar_ones=np.ones(4)\n",
    "ar1_ones=np.ones((3,4))\n",
    "print(ar_ones)\n",
    "print()\n",
    "print(ar1_ones)"
   ]
  },
  {
   "cell_type": "markdown",
   "id": "71d334f6",
   "metadata": {},
   "source": []
  },
  {
   "cell_type": "code",
   "execution_count": 30,
   "id": "5be54dc6",
   "metadata": {},
   "outputs": [
    {
     "name": "stdout",
     "output_type": "stream",
     "text": [
      "[1. 1. 1. 1.]\n"
     ]
    }
   ],
   "source": [
    "ar_em=np.empty(4)\n",
    "print(ar_em)"
   ]
  },
  {
   "cell_type": "code",
   "execution_count": 31,
   "id": "49a0c146",
   "metadata": {},
   "outputs": [
    {
     "name": "stdout",
     "output_type": "stream",
     "text": [
      "[0 1 2 3]\n"
     ]
    }
   ],
   "source": [
    "ar_rn=np.arange(4)\n",
    "print(ar_rn)"
   ]
  },
  {
   "cell_type": "code",
   "execution_count": 32,
   "id": "5f434e7d",
   "metadata": {},
   "outputs": [
    {
     "name": "stdout",
     "output_type": "stream",
     "text": [
      "[[1. 0. 0.]\n",
      " [0. 1. 0.]\n",
      " [0. 0. 1.]]\n"
     ]
    }
   ],
   "source": [
    "ar_dia=np.eye(3)\n",
    "print(ar_dia)"
   ]
  },
  {
   "cell_type": "code",
   "execution_count": 33,
   "id": "41096bfb",
   "metadata": {},
   "outputs": [
    {
     "name": "stdout",
     "output_type": "stream",
     "text": [
      "[[1. 0. 0. 0. 0.]\n",
      " [0. 1. 0. 0. 0.]\n",
      " [0. 0. 1. 0. 0.]]\n"
     ]
    }
   ],
   "source": [
    "ar_dia=np.eye(3,5)\n",
    "print(ar_dia)"
   ]
  },
  {
   "cell_type": "code",
   "execution_count": 34,
   "id": "efef2d99",
   "metadata": {},
   "outputs": [
    {
     "name": "stdout",
     "output_type": "stream",
     "text": [
      "[ 0.   2.5  5.   7.5 10. ]\n"
     ]
    }
   ],
   "source": [
    "ar_lin=np.linspace(0,10,num=5)\n",
    "print(ar_lin)"
   ]
  },
  {
   "cell_type": "markdown",
   "id": "cb053010",
   "metadata": {},
   "source": [
    "# rand()"
   ]
  },
  {
   "cell_type": "code",
   "execution_count": 35,
   "id": "f133907e",
   "metadata": {},
   "outputs": [
    {
     "name": "stdout",
     "output_type": "stream",
     "text": [
      "[0.05775715 0.02858274 0.29942603 0.58211639]\n"
     ]
    }
   ],
   "source": [
    "var=np.random.rand(4)\n",
    "print(var)"
   ]
  },
  {
   "cell_type": "code",
   "execution_count": 36,
   "id": "97c4e760",
   "metadata": {},
   "outputs": [
    {
     "name": "stdout",
     "output_type": "stream",
     "text": [
      "[[0.60549045 0.20233252 0.7205312  0.54639612 0.85661528]\n",
      " [0.91026164 0.80485588 0.49514661 0.73768319 0.17647423]]\n"
     ]
    }
   ],
   "source": [
    "var1=np.random.rand(2,5)\n",
    "print(var1)"
   ]
  },
  {
   "cell_type": "code",
   "execution_count": 38,
   "id": "62472f62",
   "metadata": {},
   "outputs": [
    {
     "name": "stdout",
     "output_type": "stream",
     "text": [
      "[[-1.01312927 -1.0363219   0.07051125 -0.24987406 -0.50479602]\n",
      " [-0.01809872  0.50250553  1.07608265  0.02456707  0.27730417]]\n"
     ]
    }
   ],
   "source": [
    "var2=np.random.randn(2,5)\n",
    "print(var2)"
   ]
  },
  {
   "cell_type": "code",
   "execution_count": 40,
   "id": "bf84ea8d",
   "metadata": {},
   "outputs": [
    {
     "name": "stdout",
     "output_type": "stream",
     "text": [
      "[0.70887629 0.45456127]\n"
     ]
    }
   ],
   "source": [
    "var3=np.random.ranf(2)\n",
    "print(var3)"
   ]
  },
  {
   "cell_type": "code",
   "execution_count": 44,
   "id": "e49f11f0",
   "metadata": {},
   "outputs": [
    {
     "name": "stdout",
     "output_type": "stream",
     "text": [
      "[3 2 4 4]\n"
     ]
    }
   ],
   "source": [
    "var4=np.random.randint(2,5,4)\n",
    "print(var4)"
   ]
  },
  {
   "cell_type": "markdown",
   "id": "50448425",
   "metadata": {},
   "source": [
    "# datatype\n",
    "import numpy as np\n",
    "x=np.array([1,2,3,4])\n",
    "print(x)\n",
    "type(x)\n",
    "print(x.dtype)"
   ]
  },
  {
   "cell_type": "code",
   "execution_count": 3,
   "id": "3ee0975f",
   "metadata": {},
   "outputs": [
    {
     "name": "stdout",
     "output_type": "stream",
     "text": [
      "[1.3 2.7 3.9 4. ]\n",
      "float64\n"
     ]
    }
   ],
   "source": [
    "import numpy as np\n",
    "x=np.array([1.3,2.7,3.9,4.0])\n",
    "print(x)\n",
    "type(x)\n",
    "print(x.dtype)"
   ]
  },
  {
   "cell_type": "code",
   "execution_count": 4,
   "id": "4d961064",
   "metadata": {},
   "outputs": [
    {
     "name": "stdout",
     "output_type": "stream",
     "text": [
      "['l' 'o' 'k']\n",
      "<U1\n"
     ]
    }
   ],
   "source": [
    "import numpy as np\n",
    "x=np.array([\"l\",\"o\",\"k\"])\n",
    "print(x)\n",
    "type(x)\n",
    "print(x.dtype)"
   ]
  },
  {
   "cell_type": "code",
   "execution_count": 5,
   "id": "140082f7",
   "metadata": {},
   "outputs": [
    {
     "name": "stdout",
     "output_type": "stream",
     "text": [
      "['l' 'o' 'k' '1' '2' '3']\n",
      "<U11\n"
     ]
    }
   ],
   "source": [
    "import numpy as np\n",
    "x=np.array([\"l\",\"o\",\"k\",1,2,3])\n",
    "print(x)\n",
    "type(x)\n",
    "print(x.dtype)"
   ]
  },
  {
   "cell_type": "code",
   "execution_count": 9,
   "id": "737f1abb",
   "metadata": {},
   "outputs": [
    {
     "name": "stdout",
     "output_type": "stream",
     "text": [
      "int8\n"
     ]
    }
   ],
   "source": [
    "import numpy as np\n",
    "x=np.array([1,2,3],dtype=np.int8)\n",
    "print(x.dtype)"
   ]
  },
  {
   "cell_type": "code",
   "execution_count": 11,
   "id": "d9bb5744",
   "metadata": {},
   "outputs": [
    {
     "name": "stdout",
     "output_type": "stream",
     "text": [
      "[1. 2. 3.]\n",
      "float32\n"
     ]
    }
   ],
   "source": [
    "import numpy as np\n",
    "x=np.array([1,2,3],dtype=\"f\")\n",
    "print(x)\n",
    "print(x.dtype)"
   ]
  },
  {
   "cell_type": "code",
   "execution_count": 17,
   "id": "9af07021",
   "metadata": {},
   "outputs": [
    {
     "name": "stdout",
     "output_type": "stream",
     "text": [
      "[1 2 3]\n",
      "int32\n",
      "[1. 2. 3.]\n",
      "float32\n",
      "[1 2 3]\n",
      "int32\n"
     ]
    }
   ],
   "source": [
    "import numpy as np\n",
    "x=np.array([1,2,3])\n",
    "new=np.float32(x)\n",
    "new1=np.int_(new)\n",
    "print(x)\n",
    "print(x.dtype)\n",
    "print(new)\n",
    "print(new.dtype)\n",
    "print(new1)\n",
    "print(new1.dtype)"
   ]
  },
  {
   "cell_type": "code",
   "execution_count": 21,
   "id": "7e20a87c",
   "metadata": {},
   "outputs": [
    {
     "name": "stdout",
     "output_type": "stream",
     "text": [
      "[1 2 3]\n",
      "[1. 2. 3.]\n"
     ]
    }
   ],
   "source": [
    "x3=np.array([1,2,3])\n",
    "new=x3.astype(float)\n",
    "print(x3)\n",
    "print(new)"
   ]
  },
  {
   "cell_type": "markdown",
   "id": "e0f0701c",
   "metadata": {},
   "source": [
    "# Arithmetic operations in numpy array"
   ]
  },
  {
   "cell_type": "code",
   "execution_count": 23,
   "id": "1978aaed",
   "metadata": {},
   "outputs": [
    {
     "name": "stdout",
     "output_type": "stream",
     "text": [
      "[4 5 6 7]\n"
     ]
    }
   ],
   "source": [
    "import numpy as np\n",
    "\n",
    "var=np.array([1,2,3,4])\n",
    "\n",
    "varadd=var+3\n",
    "\n",
    "print(varadd)"
   ]
  },
  {
   "cell_type": "code",
   "execution_count": 24,
   "id": "52e23ba5",
   "metadata": {},
   "outputs": [
    {
     "name": "stdout",
     "output_type": "stream",
     "text": [
      "[2 4 6 8]\n"
     ]
    }
   ],
   "source": [
    "\n",
    "var1=np.array([1,2,3,4])\n",
    "var2=np.array([1,2,3,4])\n",
    "\n",
    "print(np.add(var1,var2))"
   ]
  },
  {
   "cell_type": "code",
   "execution_count": 25,
   "id": "8585de3b",
   "metadata": {},
   "outputs": [
    {
     "name": "stdout",
     "output_type": "stream",
     "text": [
      "[0 0 0 0]\n"
     ]
    }
   ],
   "source": [
    "\n",
    "var1=np.array([1,2,3,4])\n",
    "var2=np.array([1,2,3,4])\n",
    "\n",
    "print(np.subtract(var1,var2))"
   ]
  },
  {
   "cell_type": "markdown",
   "id": "3fb4cf3d",
   "metadata": {},
   "source": [
    "# 2d array"
   ]
  },
  {
   "cell_type": "code",
   "execution_count": 26,
   "id": "7f5c54cb",
   "metadata": {},
   "outputs": [
    {
     "name": "stdout",
     "output_type": "stream",
     "text": [
      "[[2 4 6 8]\n",
      " [2 4 6 8]]\n"
     ]
    }
   ],
   "source": [
    "import numpy as np\n",
    "\n",
    "var1=np.array([[1,2,3,4],[1,2,3,4]])\n",
    "var2=np.array([[1,2,3,4],[1,2,3,4]])\n",
    "\n",
    "varadd=np.add(var1,var2)\n",
    "\n",
    "print(varadd)"
   ]
  },
  {
   "cell_type": "markdown",
   "id": "6781efc1",
   "metadata": {},
   "source": [
    "# Shape"
   ]
  },
  {
   "cell_type": "code",
   "execution_count": 30,
   "id": "cf1ed94a",
   "metadata": {},
   "outputs": [
    {
     "name": "stdout",
     "output_type": "stream",
     "text": [
      "[[1 2 3 4]\n",
      " [1 2 3 4]]\n",
      "\n",
      "(2, 4)\n"
     ]
    }
   ],
   "source": [
    "import numpy as np\n",
    "\n",
    "var=np.array([[1,2,3,4],[1,2,3,4]])\n",
    "\n",
    "print(var)\n",
    "print()\n",
    "print(var.shape)"
   ]
  },
  {
   "cell_type": "code",
   "execution_count": 37,
   "id": "637a1808",
   "metadata": {},
   "outputs": [
    {
     "name": "stdout",
     "output_type": "stream",
     "text": [
      "[[[[1 2 3 4]]]]\n",
      "\n",
      "4\n",
      "\n",
      "(1, 1, 1, 4)\n"
     ]
    }
   ],
   "source": [
    "var1=np.array([1,2,3,4],ndmin=4)\n",
    "\n",
    "print(var1)\n",
    "print()\n",
    "print(var1.ndim)\n",
    "print()\n",
    "print(var1.shape)"
   ]
  },
  {
   "cell_type": "markdown",
   "id": "408b5cf4",
   "metadata": {},
   "source": [
    "# Reshape"
   ]
  },
  {
   "cell_type": "code",
   "execution_count": 45,
   "id": "a42882d3",
   "metadata": {},
   "outputs": [
    {
     "name": "stdout",
     "output_type": "stream",
     "text": [
      "[1 2 3 4 5 6]\n",
      "1\n",
      "\n",
      "[[1 2]\n",
      " [3 4]\n",
      " [5 6]]\n",
      "2\n"
     ]
    }
   ],
   "source": [
    "var2=np.array([1,2,3,4,5,6])\n",
    "print(var2)\n",
    "print(var2.ndim)\n",
    "\n",
    "print()\n",
    "\n",
    "x=var2.reshape(3,2)\n",
    "\n",
    "print(x)\n",
    "print(x.ndim)"
   ]
  },
  {
   "cell_type": "code",
   "execution_count": 48,
   "id": "1557ca6f",
   "metadata": {},
   "outputs": [
    {
     "name": "stdout",
     "output_type": "stream",
     "text": [
      "[1 2 3 4 5 6 1 2 3 4 5 6]\n",
      "1\n",
      "\n",
      "[[[1 2]\n",
      "  [3 4]\n",
      "  [5 6]]\n",
      "\n",
      " [[1 2]\n",
      "  [3 4]\n",
      "  [5 6]]]\n",
      "3\n"
     ]
    }
   ],
   "source": [
    "var3=np.array([1,2,3,4,5,6,1,2,3,4,5,6])\n",
    "print(var3)\n",
    "print(var3.ndim)\n",
    "\n",
    "print()\n",
    "\n",
    "x=var3.reshape(2,3,2)\n",
    "\n",
    "print(x)\n",
    "print(x.ndim)"
   ]
  },
  {
   "cell_type": "code",
   "execution_count": 51,
   "id": "f1f6e55d",
   "metadata": {},
   "outputs": [
    {
     "name": "stdout",
     "output_type": "stream",
     "text": [
      "[1 2 3 4 5 6 1 2 3 4 5 6]\n",
      "1\n",
      "\n",
      "[[[1 2]\n",
      "  [3 4]\n",
      "  [5 6]]\n",
      "\n",
      " [[1 2]\n",
      "  [3 4]\n",
      "  [5 6]]]\n",
      "3\n",
      "\n",
      "[1 2 3 4 5 6 1 2 3 4 5 6]\n",
      "1\n"
     ]
    }
   ],
   "source": [
    "var3=np.array([1,2,3,4,5,6,1,2,3,4,5,6])\n",
    "print(var3)\n",
    "print(var3.ndim)\n",
    "\n",
    "print()\n",
    "\n",
    "x=var3.reshape(2,3,2)\n",
    "\n",
    "print(x)\n",
    "print(x.ndim)\n",
    "print()\n",
    "\n",
    "x2=x.reshape(-1)\n",
    "\n",
    "print(x2)\n",
    "print(x2.ndim)"
   ]
  },
  {
   "cell_type": "markdown",
   "id": "b8175d55",
   "metadata": {},
   "source": [
    "# Broadcasting "
   ]
  },
  {
   "cell_type": "code",
   "execution_count": 54,
   "id": "a3e831f4",
   "metadata": {},
   "outputs": [
    {
     "name": "stdout",
     "output_type": "stream",
     "text": [
      "[2 4 6 8]\n"
     ]
    }
   ],
   "source": [
    "import numpy as np\n",
    "\n",
    "var1=np.array([1,2,3,4])\n",
    "\n",
    "var2=np.array([1,2,3,4])\n",
    "\n",
    "print(var1+var2)"
   ]
  },
  {
   "cell_type": "code",
   "execution_count": 60,
   "id": "122c1b4b",
   "metadata": {},
   "outputs": [
    {
     "name": "stdout",
     "output_type": "stream",
     "text": [
      "(3,)\n",
      "\n",
      "[1 2 3]\n",
      "\n",
      "(3, 1)\n",
      "\n",
      "[[1]\n",
      " [2]\n",
      " [3]]\n",
      "\n",
      "[[2 3 4]\n",
      " [3 4 5]\n",
      " [4 5 6]]\n"
     ]
    }
   ],
   "source": [
    "var1=np.array([1,2,3])\n",
    "print(var1.shape)\n",
    "print()\n",
    "print(var1)\n",
    "print()\n",
    "\n",
    "\n",
    "var2=np.array([[1],[2],[3]])\n",
    "print(var2.shape)\n",
    "print()\n",
    "print(var2)\n",
    "print()\n",
    "print(var1+var2)"
   ]
  },
  {
   "cell_type": "code",
   "execution_count": 66,
   "id": "5485009c",
   "metadata": {},
   "outputs": [
    {
     "name": "stdout",
     "output_type": "stream",
     "text": [
      "[[1]\n",
      " [2]]\n",
      "(2, 1)\n",
      "\n",
      "[[1 2 3]\n",
      " [1 2 3]]\n",
      "(2, 3)\n",
      "\n",
      "[[2 3 4]\n",
      " [3 4 5]]\n"
     ]
    }
   ],
   "source": [
    "x=np.array([[1],[2]])\n",
    "print(x)\n",
    "print(x.shape)\n",
    "print()\n",
    "\n",
    "y=np.array([[1,2,3],[1,2,3]])\n",
    "print(y)\n",
    "print(y.shape)\n",
    "print()\n",
    "print(x+y)"
   ]
  },
  {
   "cell_type": "markdown",
   "id": "d60c624b",
   "metadata": {},
   "source": [
    "# indexing"
   ]
  },
  {
   "cell_type": "code",
   "execution_count": 3,
   "id": "3d3d40af",
   "metadata": {},
   "outputs": [
    {
     "name": "stdout",
     "output_type": "stream",
     "text": [
      "1\n",
      "2\n",
      "3\n",
      "4\n"
     ]
    }
   ],
   "source": [
    "import numpy as np\n",
    "\n",
    "var=np.array([1,2,3,4])\n",
    "\n",
    "print(var[0])\n",
    "print(var[1])\n",
    "print(var[2])\n",
    "print(var[-1])"
   ]
  },
  {
   "cell_type": "code",
   "execution_count": 14,
   "id": "60c52253",
   "metadata": {},
   "outputs": [
    {
     "name": "stdout",
     "output_type": "stream",
     "text": [
      "[[1 2 3 4]\n",
      " [1 2 3 4]]\n",
      "2\n",
      "1\n"
     ]
    }
   ],
   "source": [
    "var1=np.array([[1,2,3,4],[1,2,3,4]])\n",
    "print(var1)\n",
    "print(var1.ndim)\n",
    "print(var1[0,0])"
   ]
  },
  {
   "cell_type": "code",
   "execution_count": 19,
   "id": "f779c52d",
   "metadata": {},
   "outputs": [
    {
     "name": "stdout",
     "output_type": "stream",
     "text": [
      "[[[1 2]\n",
      "  [6 7]]]\n",
      "3\n",
      "7\n"
     ]
    }
   ],
   "source": [
    "var3=np.array([[[1,2],[6,7]]])\n",
    "print(var3)\n",
    "print(var3.ndim)\n",
    "print(var3[0,1,1])"
   ]
  },
  {
   "cell_type": "markdown",
   "id": "23133d1e",
   "metadata": {},
   "source": [
    "# slicing"
   ]
  },
  {
   "cell_type": "code",
   "execution_count": 26,
   "id": "c76422ad",
   "metadata": {},
   "outputs": [
    {
     "name": "stdout",
     "output_type": "stream",
     "text": [
      "[1 2 3 4]\n",
      "[1 2 3 4]\n",
      "[1 2 3 4]\n",
      "[1 3]\n"
     ]
    }
   ],
   "source": [
    "import numpy as np\n",
    "\n",
    "var=np.array([1,2,3,4])\n",
    "\n",
    "print(var[0:4])\n",
    "print(var[0:])\n",
    "print(var[:4])\n",
    "print(var[::2])"
   ]
  },
  {
   "cell_type": "code",
   "execution_count": 33,
   "id": "84bc83f8",
   "metadata": {},
   "outputs": [
    {
     "name": "stdout",
     "output_type": "stream",
     "text": [
      "[[1 2 3 4]\n",
      " [1 2 3 4]]\n",
      "2\n",
      "[2 3]\n"
     ]
    }
   ],
   "source": [
    "var2=np.array([[1,2,3,4],[1,2,3,4]])\n",
    "print(var2)\n",
    "print(var2.ndim)\n",
    "print(var2[0,1:3])"
   ]
  },
  {
   "cell_type": "code",
   "execution_count": 43,
   "id": "396bd730",
   "metadata": {},
   "outputs": [
    {
     "name": "stdout",
     "output_type": "stream",
     "text": [
      "[[[1 2 3 4]\n",
      "  [1 2 3 4]]]\n",
      "3\n",
      "[2 3 4]\n"
     ]
    }
   ],
   "source": [
    "var3=np.array([[[1,2,3,4],[1,2,3,4]]])\n",
    "print(var3)\n",
    "print(var3.ndim)\n",
    "print(var3[0,1,1:])"
   ]
  },
  {
   "cell_type": "markdown",
   "id": "edf5712c",
   "metadata": {},
   "source": [
    "# iteration"
   ]
  },
  {
   "cell_type": "code",
   "execution_count": 54,
   "id": "3101a52a",
   "metadata": {},
   "outputs": [
    {
     "name": "stdout",
     "output_type": "stream",
     "text": [
      "1\n",
      "2\n",
      "3\n",
      "4\n"
     ]
    }
   ],
   "source": [
    "var1=np.array([1,2,3,4])\n",
    "\n",
    "\n",
    "for i in var1:\n",
    "    print(i)"
   ]
  },
  {
   "cell_type": "code",
   "execution_count": 58,
   "id": "53446a07",
   "metadata": {},
   "outputs": [
    {
     "name": "stdout",
     "output_type": "stream",
     "text": [
      "[1 2 3 4]\n",
      "[1 2 3 4]\n",
      "\n",
      "1\n",
      "2\n",
      "3\n",
      "4\n",
      "1\n",
      "2\n",
      "3\n",
      "4\n"
     ]
    }
   ],
   "source": [
    "var2=np.array([[1,2,3,4],[1,2,3,4]])\n",
    "\n",
    "for j in var2:\n",
    "    print(j)\n",
    "    \n",
    "print()\n",
    "\n",
    "\n",
    "for k in var2:\n",
    "    for l in k:\n",
    "        print(l)"
   ]
  },
  {
   "cell_type": "code",
   "execution_count": 60,
   "id": "3eba980f",
   "metadata": {
    "scrolled": true
   },
   "outputs": [
    {
     "name": "stdout",
     "output_type": "stream",
     "text": [
      "[[1 2 3 4]\n",
      " [1 2 3 4]\n",
      " [1 2 3 4]]\n",
      "\n",
      "1\n",
      "2\n",
      "3\n",
      "4\n",
      "1\n",
      "2\n",
      "3\n",
      "4\n",
      "1\n",
      "2\n",
      "3\n",
      "4\n"
     ]
    }
   ],
   "source": [
    "var3=np.array([[[1,2,3,4],[1,2,3,4],[1,2,3,4]]])\n",
    "\n",
    "for j in var3:\n",
    "    print(j)\n",
    "    \n",
    "print()\n",
    "\n",
    "\n",
    "for i in var3:\n",
    "    for j in i:\n",
    "        for k in j:\n",
    "            print(k)"
   ]
  },
  {
   "cell_type": "code",
   "execution_count": 64,
   "id": "3e59f3dc",
   "metadata": {},
   "outputs": [
    {
     "name": "stdout",
     "output_type": "stream",
     "text": [
      "1\n",
      "2\n",
      "3\n",
      "4\n",
      "1\n",
      "2\n",
      "3\n",
      "4\n",
      "1\n",
      "2\n",
      "3\n",
      "4\n",
      "b'1'\n",
      "b'2'\n",
      "b'3'\n",
      "b'4'\n",
      "b'1'\n",
      "b'2'\n",
      "b'3'\n",
      "b'4'\n",
      "b'1'\n",
      "b'2'\n",
      "b'3'\n",
      "b'4'\n"
     ]
    }
   ],
   "source": [
    "var4=np.array([[[1,2,3,4],[1,2,3,4],[1,2,3,4]]])\n",
    "\n",
    "for j in np.nditer(var4):\n",
    "    print(j)\n",
    "    \n",
    "for i in np.nditer(var4,flags=[\"buffered\"],op_dtypes=[\"S\"]):\n",
    "    print(i)"
   ]
  },
  {
   "cell_type": "code",
   "execution_count": 65,
   "id": "da66c103",
   "metadata": {},
   "outputs": [
    {
     "name": "stdout",
     "output_type": "stream",
     "text": [
      "((0, 0, 0), 1)\n",
      "((0, 0, 1), 2)\n",
      "((0, 0, 2), 3)\n",
      "((0, 0, 3), 4)\n",
      "((0, 1, 0), 1)\n",
      "((0, 1, 1), 2)\n",
      "((0, 1, 2), 3)\n",
      "((0, 1, 3), 4)\n",
      "((0, 2, 0), 1)\n",
      "((0, 2, 1), 2)\n",
      "((0, 2, 2), 3)\n",
      "((0, 2, 3), 4)\n"
     ]
    }
   ],
   "source": [
    "var4=np.array([[[1,2,3,4],[1,2,3,4],[1,2,3,4]]])\n",
    "\n",
    "for j in np.ndenumerate(var4):\n",
    "    print(j)\n",
    "    "
   ]
  },
  {
   "cell_type": "markdown",
   "id": "1b9c6cb6",
   "metadata": {},
   "source": [
    "# copy vs view"
   ]
  },
  {
   "cell_type": "code",
   "execution_count": 72,
   "id": "27130598",
   "metadata": {},
   "outputs": [
    {
     "name": "stdout",
     "output_type": "stream",
     "text": [
      "var: [ 1 30  3  4]\n",
      "copy: [1 2 3 4]\n"
     ]
    }
   ],
   "source": [
    "import numpy as np\n",
    "\n",
    "var=np.array([1,2,3,4])\n",
    "\n",
    "co=var.copy()\n",
    "\n",
    "var[1]=30\n",
    "\n",
    "print(\"var:\",var)\n",
    "print(\"copy:\",co)"
   ]
  },
  {
   "cell_type": "code",
   "execution_count": 73,
   "id": "001ece13",
   "metadata": {},
   "outputs": [
    {
     "name": "stdout",
     "output_type": "stream",
     "text": [
      "x: [ 9 10  7  6  5]\n",
      "view: [ 9 10  7  6  5]\n"
     ]
    }
   ],
   "source": [
    "x=np.array([9,8,7,6,5])\n",
    "\n",
    "vi=x.view()\n",
    "\n",
    "x[1]=10\n",
    "\n",
    "print(\"x:\",x)\n",
    "print(\"view:\",vi)"
   ]
  },
  {
   "cell_type": "markdown",
   "id": "486b017a-3aad-4ac5-94e4-921a8d8bc63c",
   "metadata": {},
   "source": [
    "# join& split"
   ]
  },
  {
   "cell_type": "code",
   "execution_count": 75,
   "id": "2ca7edf5",
   "metadata": {},
   "outputs": [
    {
     "name": "stdout",
     "output_type": "stream",
     "text": [
      "[1 2 3 4 9 8 7 6]\n"
     ]
    }
   ],
   "source": [
    "import numpy as np\n",
    "\n",
    "var=np.array([1,2,3,4])\n",
    "var1=np.array([9,8,7,6])\n",
    "\n",
    "ar=np.concatenate((var,var1))\n",
    "\n",
    "print(ar)"
   ]
  },
  {
   "cell_type": "code",
   "execution_count": 81,
   "id": "0555ba26",
   "metadata": {},
   "outputs": [
    {
     "name": "stdout",
     "output_type": "stream",
     "text": [
      "[[1 2 9 8]\n",
      " [3 4 7 6]]\n"
     ]
    }
   ],
   "source": [
    "var2=np.array([[1,2],[3,4]])\n",
    "var3=np.array([[9,8],[7,6]])\n",
    "\n",
    "ar_new=np.concatenate((var2,var3),axis=1)\n",
    "\n",
    "print(ar_new)"
   ]
  },
  {
   "cell_type": "code",
   "execution_count": 87,
   "id": "88fed265",
   "metadata": {},
   "outputs": [
    {
     "name": "stdout",
     "output_type": "stream",
     "text": [
      "[[1 9]\n",
      " [2 8]\n",
      " [3 7]\n",
      " [4 6]]\n",
      "\n",
      "[1 2 3 4 9 8 7 6]\n",
      "\n",
      "[[1 2 3 4]\n",
      " [9 8 7 6]]\n",
      "\n",
      "[[[1 9]\n",
      "  [2 8]\n",
      "  [3 7]\n",
      "  [4 6]]]\n"
     ]
    }
   ],
   "source": [
    "import numpy as np\n",
    "\n",
    "var4=np.array([1,2,3,4])\n",
    "var5=np.array([9,8,7,6])\n",
    "\n",
    "ar1=np.stack((var4,var5),axis=1)\n",
    "ar2=np.hstack((var4,var5))#row\n",
    "ar3=np.vstack((var4,var5))#colums\n",
    "ar4=np.dstack((var4,var5))#height\n",
    "\n",
    "print(ar1)\n",
    "print()\n",
    "print(ar2)\n",
    "print()\n",
    "print(ar3)\n",
    "print()\n",
    "print(ar4)"
   ]
  },
  {
   "cell_type": "markdown",
   "id": "f7003d73",
   "metadata": {},
   "source": [
    "# split"
   ]
  },
  {
   "cell_type": "code",
   "execution_count": 94,
   "id": "a35f9df3",
   "metadata": {},
   "outputs": [
    {
     "name": "stdout",
     "output_type": "stream",
     "text": [
      "[1 2 3 4]\n",
      "[array([1, 2]), array([3, 4])]\n",
      "[1 2]\n"
     ]
    }
   ],
   "source": [
    "import numpy as np\n",
    "\n",
    "var=np.array([1,2,3,4])\n",
    "\n",
    "print(var)\n",
    "\n",
    "ar=np.split(var,2)\n",
    "\n",
    "print(ar)\n",
    "print(ar[0])"
   ]
  },
  {
   "cell_type": "code",
   "execution_count": 100,
   "id": "2f794b50",
   "metadata": {},
   "outputs": [
    {
     "name": "stdout",
     "output_type": "stream",
     "text": [
      "[[1 2]\n",
      " [3 4]\n",
      " [5 6]]\n",
      "[array([[1, 2]]), array([[3, 4]]), array([[5, 6]])]\n",
      "\n"
     ]
    }
   ],
   "source": [
    "var1=np.array([[1,2],[3,4],[5,6]])\n",
    "\n",
    "print(var1)\n",
    "\n",
    "ar=np.split(var1,3)\n",
    "\n",
    "print(ar)\n",
    "print()\n",
    "# print(ar1)"
   ]
  },
  {
   "cell_type": "markdown",
   "id": "f3381f66-0681-4771-b6d9-c6f994e4ffec",
   "metadata": {},
   "source": [
    "Numpy Arrays Functions"
   ]
  },
  {
   "cell_type": "code",
   "execution_count": 9,
   "id": "35838d4b",
   "metadata": {},
   "outputs": [
    {
     "name": "stdout",
     "output_type": "stream",
     "text": [
      "(array([], dtype=int64),)\n"
     ]
    }
   ],
   "source": [
    "#search \n",
    "\n",
    "import numpy as np\n",
    "var=np.array([1,2,3,2,4,5,6,7,8,9])\n",
    "\n",
    "x=np.where((var/2)==0)\n",
    "print(x)"
   ]
  },
  {
   "cell_type": "markdown",
   "id": "cf257e06-ea14-49de-a2dc-30bceb68597e",
   "metadata": {},
   "source": [
    "Search sorted array"
   ]
  },
  {
   "cell_type": "code",
   "execution_count": 14,
   "id": "ff725ed3-b759-40a5-988b-071813a26e33",
   "metadata": {},
   "outputs": [
    {
     "name": "stdout",
     "output_type": "stream",
     "text": [
      "[4 4 4]\n"
     ]
    }
   ],
   "source": [
    "var1=np.array([1,2,3,4,8,9,10])\n",
    "\n",
    "x=np.searchsorted(var1,[5,6,7],side=\"right\")\n",
    "print(x)"
   ]
  },
  {
   "cell_type": "markdown",
   "id": "dc312452-719f-40ca-bbe1-083474d3b16d",
   "metadata": {},
   "source": [
    "#Sort"
   ]
  },
  {
   "cell_type": "code",
   "execution_count": 15,
   "id": "ea61870b-cbeb-4de6-bbab-bce0867cc5fb",
   "metadata": {},
   "outputs": [
    {
     "name": "stdout",
     "output_type": "stream",
     "text": [
      "[1 2 3 4 6 7]\n"
     ]
    }
   ],
   "source": [
    "var2=np.array([2,6,7,3,4,1])\n",
    "\n",
    "x=np.sort(var2)\n",
    "print(x)"
   ]
  },
  {
   "cell_type": "code",
   "execution_count": 17,
   "id": "49bbce10-4e65-46de-ab77-10bc39ed989d",
   "metadata": {},
   "outputs": [
    {
     "name": "stdout",
     "output_type": "stream",
     "text": [
      "['b' 'd' 'f' 's']\n"
     ]
    }
   ],
   "source": [
    "var3=np.array([\"d\",\"b\",\"f\",\"s\"])\n",
    "\n",
    "x=np.sort(var3)\n",
    "print(x)"
   ]
  },
  {
   "cell_type": "code",
   "execution_count": 18,
   "id": "31414a30-ff25-4a0c-a7aa-b1679ccbf18b",
   "metadata": {},
   "outputs": [
    {
     "name": "stdout",
     "output_type": "stream",
     "text": [
      "[[2 3 6]\n",
      " [1 2 4]\n",
      " [1 3 5]]\n"
     ]
    }
   ],
   "source": [
    "var4=np.array([[2,6,3],[4,2,1],[3,1,5]])\n",
    "\n",
    "x=np.sort(var4)\n",
    "print(x)"
   ]
  },
  {
   "cell_type": "markdown",
   "id": "9883a973-bf95-4ef3-9c37-642d0859a9bf",
   "metadata": {},
   "source": [
    "Filter"
   ]
  },
  {
   "cell_type": "code",
   "execution_count": 21,
   "id": "8589225b-7fc7-40b4-99ad-09417bf85c4a",
   "metadata": {},
   "outputs": [
    {
     "name": "stdout",
     "output_type": "stream",
     "text": [
      "['a' 'f']\n"
     ]
    }
   ],
   "source": [
    "a=np.array([\"a\",\"s\",\"d\",\"f\"])\n",
    "\n",
    "f=[True,False,False,True]\n",
    "\n",
    "x=a[f]\n",
    "\n",
    "print(x)"
   ]
  },
  {
   "cell_type": "markdown",
   "id": "7d754f75-39d4-438e-8166-a064b904fbd3",
   "metadata": {},
   "source": [
    "Arithmatic Fuctions Shuffle"
   ]
  },
  {
   "cell_type": "code",
   "execution_count": 22,
   "id": "95bb3f5d-627f-4b02-9069-d9f2aada0873",
   "metadata": {},
   "outputs": [
    {
     "name": "stdout",
     "output_type": "stream",
     "text": [
      "[6 2 4 1 5 3]\n"
     ]
    }
   ],
   "source": [
    "import numpy as np\n",
    "\n",
    "var=np.array([1,2,3,4,5,6])\n",
    "\n",
    "np.random.shuffle(var)\n",
    "\n",
    "print(var)"
   ]
  },
  {
   "cell_type": "code",
   "execution_count": 30,
   "id": "fd0d444d-b9a2-44ec-8558-ade27cce2698",
   "metadata": {},
   "outputs": [
    {
     "name": "stdout",
     "output_type": "stream",
     "text": [
      "[1 2 3 4 5 6 7]\n",
      "\n",
      "(array([1, 2, 3, 4, 5, 6, 7]), array([0, 1, 2, 3, 4, 5, 8], dtype=int64), array([1, 1, 2, 2, 1, 2, 1], dtype=int64))\n"
     ]
    }
   ],
   "source": [
    "var1=np.array([1,2,3,4,5,6,3,4,7,6])\n",
    "\n",
    "x=np.unique(var1)\n",
    "y=np.unique(var1,return_index=True,return_counts=True)\n",
    "print(x)\n",
    "print()\n",
    "print(y)"
   ]
  },
  {
   "cell_type": "code",
   "execution_count": 31,
   "id": "c3dd7411-c4be-4509-8bae-9a6ae34fbbe8",
   "metadata": {},
   "outputs": [
    {
     "name": "stdout",
     "output_type": "stream",
     "text": [
      "[[1 2 3]\n",
      " [4 5 6]]\n"
     ]
    }
   ],
   "source": [
    "var2=np.array([1,2,3,4,5,6,7])\n",
    "\n",
    "y=np.resize(var2,(2,3))\n",
    "\n",
    "print(y)"
   ]
  },
  {
   "cell_type": "code",
   "execution_count": 40,
   "id": "200bd223-2721-4d8d-b449-cf03ed9bec8b",
   "metadata": {},
   "outputs": [
    {
     "name": "stdout",
     "output_type": "stream",
     "text": [
      "[[1 2 3]\n",
      " [4 5 6]\n",
      " [7 1 2]]\n",
      "\n",
      "[1 2 3 4 5 6 7 1 2]\n",
      "Flatten: [1 4 7 2 5 1 3 6 2]\n",
      "Ravel: [1 4 7 2 5 1 3 6 2]\n"
     ]
    }
   ],
   "source": [
    "var2=np.array([1,2,3,4,5,6,7])\n",
    "\n",
    "y=np.resize(var2,(3,3))\n",
    "print(y)\n",
    "print()\n",
    "print(y.flatten())\n",
    "print(\"Flatten:\",y.flatten(order=\"F\"))\n",
    "print(\"Ravel:\",np.ravel(y,order=\"F\"))"
   ]
  },
  {
   "cell_type": "markdown",
   "id": "9644318e-3395-4ed9-a5e4-7514d58859a6",
   "metadata": {},
   "source": [
    "insert and delete arrays fuctions"
   ]
  },
  {
   "cell_type": "code",
   "execution_count": 43,
   "id": "6d2c3347-bcb6-43f8-9429-a062b89857cd",
   "metadata": {},
   "outputs": [
    {
     "name": "stdin",
     "output_type": "stream",
     "text": [
      "enter the range of array: 5\n",
      "Enter elements: 1\n",
      "Enter elements: 2\n",
      "Enter elements: 3\n",
      "Enter elements: 4\n"
     ]
    },
    {
     "name": "stdout",
     "output_type": "stream",
     "text": [
      "[1, 2, 3, 4]\n"
     ]
    }
   ],
   "source": [
    "import numpy as np\n",
    "n=int(input(\"enter the range of array:\"))\n",
    "arr=[]\n",
    "for i in range(1,n):\n",
    "    array=int(input(\"Enter elements:\"))\n",
    "    arr.append(array)\n",
    "print(arr)\n"
   ]
  },
  {
   "cell_type": "code",
   "execution_count": 45,
   "id": "535649a1-3bf0-49dc-ad5d-fd27b0dc660f",
   "metadata": {},
   "outputs": [
    {
     "name": "stdout",
     "output_type": "stream",
     "text": [
      "[1 2 3 4 5]\n",
      "[ 1  2 12  3  4  5]\n",
      "[ 1  2 12  3  4 12  5]\n"
     ]
    }
   ],
   "source": [
    "var=np.array([1,2,3,4,5])\n",
    "print(var)\n",
    "v=np.insert(var,2,12)\n",
    "print(v)\n",
    "c=np.insert(var,(2,4),12)\n",
    "print(c)"
   ]
  },
  {
   "cell_type": "code",
   "execution_count": 61,
   "id": "ed97c774-69c1-4517-9d25-be3a28ab26e6",
   "metadata": {},
   "outputs": [
    {
     "name": "stdout",
     "output_type": "stream",
     "text": [
      "[[ 1  2 12  3]\n",
      " [ 1  2 23  3]]\n",
      "\n",
      "[[ 1  2  3]\n",
      " [12 12 12]\n",
      " [ 1  2  3]]\n",
      "\n",
      "[[ 1  2  3]\n",
      " [ 1  2  3]\n",
      " [12 34 66]]\n"
     ]
    }
   ],
   "source": [
    "var2=np.array([[1,2,3],[1,2,3]])\n",
    "v2=np.insert(var2,2,[12,23],axis=1)\n",
    "print(v2)\n",
    "\n",
    "v3=np.insert(var2,1,[12],axis=0)\n",
    "print()\n",
    "print(v3)\n",
    "\n",
    "v4=np.append(var2,[[12,34,66]],axis=0)\n",
    "print()\n",
    "print(v4)"
   ]
  },
  {
   "cell_type": "markdown",
   "id": "1f160d11-5ef6-4139-960c-5974ba7ee53e",
   "metadata": {},
   "source": [
    "Delete"
   ]
  },
  {
   "cell_type": "code",
   "execution_count": 62,
   "id": "64492f19-eafc-4fb1-8844-5a5de3b91bf4",
   "metadata": {},
   "outputs": [
    {
     "name": "stdout",
     "output_type": "stream",
     "text": [
      "[1 2 3 4]\n",
      "[1 2 4]\n"
     ]
    }
   ],
   "source": [
    "var1=np.array([1,2,3,4])\n",
    "\n",
    "print(var1)\n",
    "\n",
    "d=np.delete(var1,2)\n",
    "\n",
    "print(d)"
   ]
  },
  {
   "cell_type": "markdown",
   "id": "db5ed280-b8d4-4360-80c3-073fc17e0fbd",
   "metadata": {},
   "source": [
    "create matrix in numpy"
   ]
  },
  {
   "cell_type": "code",
   "execution_count": 65,
   "id": "79365bf5-2697-4e3d-bf61-c2a9097d3401",
   "metadata": {},
   "outputs": [
    {
     "name": "stdout",
     "output_type": "stream",
     "text": [
      "[[1 2 3]\n",
      " [1 2 3]]\n",
      "<class 'numpy.matrix'>\n"
     ]
    }
   ],
   "source": [
    "import numpy as np\n",
    "\n",
    "var=np.matrix([[1,2,3],[1,2,3]])\n",
    "\n",
    "print(var)\n",
    "print(type(var))"
   ]
  },
  {
   "cell_type": "code",
   "execution_count": 66,
   "id": "d4f1423b-c6af-4d2c-b2b8-ef4a850c2507",
   "metadata": {},
   "outputs": [
    {
     "name": "stdout",
     "output_type": "stream",
     "text": [
      "[[1 2 3]\n",
      " [1 2 3]]\n",
      "<class 'numpy.ndarray'>\n"
     ]
    }
   ],
   "source": [
    "var1=np.array([[1,2,3],[1,2,3]])\n",
    "print(var1)\n",
    "print(type(var1))"
   ]
  },
  {
   "cell_type": "markdown",
   "id": "19433d29-4306-4608-bb47-3fefcd4b19b7",
   "metadata": {},
   "source": [
    "Arithmetic operation in matrix"
   ]
  },
  {
   "cell_type": "code",
   "execution_count": 72,
   "id": "21ed9b19-f7a6-4080-8cc7-e678f225888a",
   "metadata": {},
   "outputs": [
    {
     "name": "stdout",
     "output_type": "stream",
     "text": [
      "[[1 2]\n",
      " [1 2]]\n",
      "<class 'numpy.matrix'>\n",
      "[[2 4]\n",
      " [2 4]]\n",
      "\n",
      "[[0 0]\n",
      " [0 0]]\n",
      "\n",
      "[[3 6]\n",
      " [3 6]]\n",
      "\n",
      "[[3 6]\n",
      " [3 6]]\n"
     ]
    }
   ],
   "source": [
    "import numpy as np\n",
    "\n",
    "var=np.matrix([[1,2],[1,2]])\n",
    "var1=np.matrix([[1,2],[1,2]])\n",
    "\n",
    "print(var)\n",
    "print(type(var))\n",
    "print(var+var1)\n",
    "print()\n",
    "print(var-var1)\n",
    "print()\n",
    "print(var*var1)\n",
    "print()\n",
    "print(var.dot(var1))"
   ]
  },
  {
   "cell_type": "code",
   "execution_count": 74,
   "id": "810a9221-02ea-4e99-afc7-2861b1e6b5d6",
   "metadata": {},
   "outputs": [
    {
     "name": "stdout",
     "output_type": "stream",
     "text": [
      "[[1 2 3]\n",
      " [1 2 3]]\n",
      "<class 'numpy.ndarray'>\n",
      "\n",
      "[[1 4 9]\n",
      " [1 4 9]]\n"
     ]
    }
   ],
   "source": [
    "var1=np.array([[1,2,3],[1,2,3]])\n",
    "print(var1)\n",
    "print(type(var1))\n",
    "print()\n",
    "print(var1*var1)"
   ]
  },
  {
   "cell_type": "markdown",
   "id": "07cefff7-bb80-4d5f-a0f9-425dfe8cf137",
   "metadata": {},
   "source": [
    "Transpose"
   ]
  },
  {
   "cell_type": "code",
   "execution_count": 79,
   "id": "ea445cf8-75b2-4e42-8cb9-8aa0f196dd5b",
   "metadata": {},
   "outputs": [
    {
     "name": "stdout",
     "output_type": "stream",
     "text": [
      "[[1 2 3]\n",
      " [1 2 3]]\n",
      "\n",
      "[[1 1]\n",
      " [2 2]\n",
      " [3 3]]\n",
      "\n",
      "[[1 1]\n",
      " [2 2]\n",
      " [3 3]]\n",
      "\n",
      "[[1 1]\n",
      " [2 2]\n",
      " [3 3]]\n"
     ]
    }
   ],
   "source": [
    "import numpy as np\n",
    "\n",
    "var=np.matrix([[1,2,3],[1,2,3]])\n",
    "print(var)\n",
    "print()\n",
    "print(np.transpose(var))\n",
    "print()\n",
    "print(var.T)\n",
    "print()\n",
    "print(np.swapaxes(var,0,1))"
   ]
  },
  {
   "cell_type": "code",
   "execution_count": 83,
   "id": "c7bf5b5e-8e40-44f4-bfd1-dc6391f9473a",
   "metadata": {},
   "outputs": [
    {
     "name": "stdout",
     "output_type": "stream",
     "text": [
      "[[1 2]\n",
      " [3 4]]\n",
      "[[1 3]\n",
      " [2 4]]\n"
     ]
    }
   ],
   "source": [
    "var2=np.matrix([[1,2],[3,4]])\n",
    "print(var2)\n",
    "print(np.swapaxes(var2,0,1))"
   ]
  },
  {
   "cell_type": "code",
   "execution_count": 87,
   "id": "b846e958-1cb8-4cca-b836-d01080abb90a",
   "metadata": {},
   "outputs": [
    {
     "name": "stdout",
     "output_type": "stream",
     "text": [
      "[[1 2]\n",
      " [3 4]]\n",
      "\n",
      "[[-2.   1. ]\n",
      " [ 1.5 -0.5]]\n"
     ]
    }
   ],
   "source": [
    "var3=np.matrix([[1,2],[3,4]])\n",
    "print(var3)\n",
    "print()\n",
    "print(np.linalg.inv(var3))"
   ]
  },
  {
   "cell_type": "code",
   "execution_count": 93,
   "id": "37692c3e-0837-4a48-b6a0-2b771ef54973",
   "metadata": {},
   "outputs": [
    {
     "name": "stdout",
     "output_type": "stream",
     "text": [
      "[[1 2]\n",
      " [3 4]]\n",
      "\n",
      "[[ 7 10]\n",
      " [15 22]]\n",
      "\n",
      "[[1 0]\n",
      " [0 1]]\n",
      "\n",
      "[[ 5.5  -2.5 ]\n",
      " [-3.75  1.75]]\n"
     ]
    }
   ],
   "source": [
    "var4=np.matrix([[1,2],[3,4]])\n",
    "print(var4)\n",
    "print()\n",
    "print(np.linalg.matrix_power(var4,2))\n",
    "print()\n",
    "print(np.linalg.matrix_power(var4,0))\n",
    "print()\n",
    "print(np.linalg.matrix_power(var4,-2))"
   ]
  },
  {
   "cell_type": "code",
   "execution_count": 97,
   "id": "45e6fde7-3215-4c17-92fd-e9a5a870b94b",
   "metadata": {},
   "outputs": [
    {
     "name": "stdout",
     "output_type": "stream",
     "text": [
      "[[1 2 3]\n",
      " [3 4 5]\n",
      " [1 2 6]]\n",
      "\n",
      "-6.000000000000003\n"
     ]
    }
   ],
   "source": [
    "var5=np.matrix([[1,2,3],[3,4,5],[1,2,6]])\n",
    "print(var5)\n",
    "print()\n",
    "print(np.linalg.det(var5))"
   ]
  },
  {
   "cell_type": "code",
   "execution_count": null,
   "id": "4215823a-7b85-47d8-940c-a15c627d25cf",
   "metadata": {},
   "outputs": [],
   "source": []
  }
 ],
 "metadata": {
  "kernelspec": {
   "display_name": "Python 3 (ipykernel)",
   "language": "python",
   "name": "python3"
  },
  "language_info": {
   "codemirror_mode": {
    "name": "ipython",
    "version": 3
   },
   "file_extension": ".py",
   "mimetype": "text/x-python",
   "name": "python",
   "nbconvert_exporter": "python",
   "pygments_lexer": "ipython3",
   "version": "3.10.10"
  }
 },
 "nbformat": 4,
 "nbformat_minor": 5
}
