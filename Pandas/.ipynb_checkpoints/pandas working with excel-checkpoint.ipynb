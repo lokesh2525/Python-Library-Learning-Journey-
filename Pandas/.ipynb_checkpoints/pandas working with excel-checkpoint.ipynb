{
 "cells": [
  {
   "cell_type": "markdown",
   "id": "d8b13811-1acd-4dec-8a1b-0c8e0d46d553",
   "metadata": {},
   "source": [
    "\n",
    "Pandas provides powerful tools for working with Excel files, allowing you to read from and write to Excel files easily. Here's a quick guide on how to work with Excel files using Pandas:\n",
    "\n",
    "Reading Excel Files"
   ]
  },
  {
   "cell_type": "code",
   "execution_count": 4,
   "id": "5acfa2d1-1e9a-4302-bc40-d497ddbb4034",
   "metadata": {},
   "outputs": [
    {
     "name": "stdout",
     "output_type": "stream",
     "text": [
      "Collecting openpyxl\n",
      "  Downloading openpyxl-3.1.5-py2.py3-none-any.whl.metadata (2.5 kB)\n",
      "Collecting et-xmlfile (from openpyxl)\n",
      "  Downloading et_xmlfile-1.1.0-py3-none-any.whl.metadata (1.8 kB)\n",
      "Downloading openpyxl-3.1.5-py2.py3-none-any.whl (250 kB)\n",
      "Downloading et_xmlfile-1.1.0-py3-none-any.whl (4.7 kB)\n",
      "Installing collected packages: et-xmlfile, openpyxl\n",
      "Successfully installed et-xmlfile-1.1.0 openpyxl-3.1.5\n",
      "Collecting xlrd\n",
      "  Downloading xlrd-2.0.1-py2.py3-none-any.whl.metadata (3.4 kB)\n",
      "Downloading xlrd-2.0.1-py2.py3-none-any.whl (96 kB)\n",
      "Installing collected packages: xlrd\n",
      "Successfully installed xlrd-2.0.1\n"
     ]
    }
   ],
   "source": [
    "!pip install openpyxl\n",
    "!pip install xlrd"
   ]
  },
  {
   "cell_type": "code",
   "execution_count": 5,
   "id": "e8aaf844-7420-4293-a494-2bfd4acef257",
   "metadata": {},
   "outputs": [
    {
     "name": "stdout",
     "output_type": "stream",
     "text": [
      "   Name  Age         City\n",
      "0  John   30     New York\n",
      "1  Anna   25       London\n",
      "2  Mike   35      Chicago\n",
      "3  Lisa   28  Los Angeles\n",
      "4  Dave   40      Houston\n"
     ]
    }
   ],
   "source": [
    "import pandas as pd\n",
    "\n",
    "# Reading the first sheet of an Excel file\n",
    "df = pd.read_excel(\"D:\\jupyter notebook\\Pandas\\data.xlsx\")\n",
    "print(df)"
   ]
  },
  {
   "cell_type": "markdown",
   "id": "7f641174-2cd0-418f-9934-a30138b40699",
   "metadata": {},
   "source": [
    "Specifying the Sheet Name: If your Excel file has multiple sheets, you can specify which sheet to read."
   ]
  },
  {
   "cell_type": "code",
   "execution_count": 6,
   "id": "72f16019-cb0a-4c04-b7ce-334283870204",
   "metadata": {},
   "outputs": [
    {
     "name": "stdout",
     "output_type": "stream",
     "text": [
      "   Name  Age         City\n",
      "0  John   30     New York\n",
      "1  Anna   25       London\n",
      "2  Mike   35      Chicago\n",
      "3  Lisa   28  Los Angeles\n",
      "4  Dave   40      Houston\n"
     ]
    }
   ],
   "source": [
    "import pandas as pd\n",
    "\n",
    "# Reading a specific sheet by name\n",
    "df = pd.read_excel('D:\\jupyter notebook\\Pandas\\data.xlsx', sheet_name='Sheet1')\n",
    "print(df)"
   ]
  },
  {
   "cell_type": "markdown",
   "id": "d6b4b3c9-14dc-477a-9a3b-ebcb100b398d",
   "metadata": {},
   "source": [
    "Specifying the Sheet Index: You can also specify the sheet by its index (0-based)."
   ]
  },
  {
   "cell_type": "code",
   "execution_count": 9,
   "id": "c46e6b76-ce09-442c-beb2-102b71471894",
   "metadata": {},
   "outputs": [
    {
     "name": "stdout",
     "output_type": "stream",
     "text": [
      "   Name  Age         City\n",
      "0  John   30     New York\n",
      "1  Anna   25       London\n",
      "2  Mike   35      Chicago\n",
      "3  Lisa   28  Los Angeles\n",
      "4  Dave   40      Houston\n"
     ]
    }
   ],
   "source": [
    "import pandas as pd\n",
    "\n",
    "# Reading a specific sheet by index\n",
    "df = pd.read_excel('D:\\jupyter notebook\\Pandas\\data.xlsx', sheet_name=0)  # First sheet\n",
    "print(df)"
   ]
  },
  {
   "cell_type": "markdown",
   "id": "7f9b7771-fb91-490a-ae15-4e82980f605c",
   "metadata": {},
   "source": [
    "Writing Excel Files"
   ]
  },
  {
   "cell_type": "code",
   "execution_count": 11,
   "id": "1a708c2b-c105-46d5-a3d3-1c025dca0df2",
   "metadata": {},
   "outputs": [],
   "source": [
    "import pandas as pd\n",
    "\n",
    "data = {'Name': ['John', 'Anna', 'Mike'],\n",
    "        'Age': [30, 25, 35]}\n",
    "df = pd.DataFrame(data)\n",
    "\n",
    "# Writing the DataFrame to an Excel file\n",
    "df.to_excel('output.xlsx', index=False)  # index=False prevents writing row indices"
   ]
  },
  {
   "cell_type": "markdown",
   "id": "c57caf37-482e-4514-ab12-208e06c78770",
   "metadata": {},
   "source": [
    "Writing to a Specific Sheet: You can specify the sheet name when writing to an Excel file."
   ]
  },
  {
   "cell_type": "code",
   "execution_count": 12,
   "id": "3be75a00-571b-46f4-9bf9-5ee7b3b52d04",
   "metadata": {},
   "outputs": [],
   "source": [
    "import pandas as pd\n",
    "\n",
    "data = {'Name': ['John', 'Anna', 'Mike'],\n",
    "        'Age': [30, 25, 35]}\n",
    "df = pd.DataFrame(data)\n",
    "\n",
    "# Writing to a specific sheet\n",
    "df.to_excel('output.xlsx', sheet_name='People', index=False)"
   ]
  },
  {
   "cell_type": "code",
   "execution_count": 13,
   "id": "2036ab7a-6917-4fbe-8632-a1da7911d165",
   "metadata": {},
   "outputs": [],
   "source": [
    "data1={ 'Name':['lokesh','sanket','vaibhav'],\n",
    "        'Age':[21,21,21]}\n",
    "df=pd.DataFrame(data1)\n",
    "\n",
    "#writing the dataframe into excel file\n",
    "df.to_excel(\"output1.xlsx\")"
   ]
  },
  {
   "cell_type": "markdown",
   "id": "f18f98e2-f4c1-4ff0-8ba8-bb0c56a47f58",
   "metadata": {},
   "source": [
    "Writing Multiple Sheets: You can write multiple DataFrames to different sheets in the same Excel file using ExcelWriter."
   ]
  },
  {
   "cell_type": "code",
   "execution_count": 14,
   "id": "104f426f-1c77-438b-8099-57ac46ad63c3",
   "metadata": {},
   "outputs": [],
   "source": [
    "import pandas as pd\n",
    "\n",
    "df1 = pd.DataFrame({'Name': ['John', 'Anna'], 'Age': [30, 25]})\n",
    "df2 = pd.DataFrame({'City': ['New York', 'London'], 'Country': ['USA', 'UK']})\n",
    "\n",
    "# Writing multiple DataFrames to different sheets\n",
    "with pd.ExcelWriter('output2.xlsx') as writer:\n",
    "    df1.to_excel(writer, sheet_name='People', index=False)\n",
    "    df2.to_excel(writer, sheet_name='Cities', index=False)"
   ]
  },
  {
   "cell_type": "code",
   "execution_count": 15,
   "id": "3bb18d8a-217d-4009-860c-83a2c118b366",
   "metadata": {},
   "outputs": [],
   "source": [
    "import pandas as pd\n",
    "\n",
    "# Read data from Excel\n",
    "df = pd.read_excel('D:\\jupyter notebook\\Pandas\\data.xlsx', sheet_name='Sheet1')\n",
    "\n",
    "# Perform some data manipulation\n",
    "df['Age in 10 years'] = df['Age'] + 10\n",
    "\n",
    "# Write the modified DataFrame to a new Excel file\n",
    "df.to_excel('modified_data.xlsx', sheet_name='Modified Data', index=False)"
   ]
  },
  {
   "cell_type": "code",
   "execution_count": null,
   "id": "04b52cba-ef18-4635-ba62-8010027c4c01",
   "metadata": {},
   "outputs": [],
   "source": []
  }
 ],
 "metadata": {
  "kernelspec": {
   "display_name": "Python 3 (ipykernel)",
   "language": "python",
   "name": "python3"
  },
  "language_info": {
   "codemirror_mode": {
    "name": "ipython",
    "version": 3
   },
   "file_extension": ".py",
   "mimetype": "text/x-python",
   "name": "python",
   "nbconvert_exporter": "python",
   "pygments_lexer": "ipython3",
   "version": "3.10.10"
  }
 },
 "nbformat": 4,
 "nbformat_minor": 5
}
