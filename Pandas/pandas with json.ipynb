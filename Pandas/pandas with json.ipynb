{
 "cells": [
  {
   "cell_type": "markdown",
   "id": "d97a9b21-5923-455b-8212-57c72b062433",
   "metadata": {},
   "source": [
    "Reading JSON Data into a DataFrame"
   ]
  },
  {
   "cell_type": "code",
   "execution_count": 14,
   "id": "ef519b80-7bf8-4ed4-b5a2-4a27f1a65983",
   "metadata": {},
   "outputs": [
    {
     "name": "stdout",
     "output_type": "stream",
     "text": [
      "   name  age      city\n",
      "0  John   30  New York\n",
      "1  Anna   25    London\n",
      "2  Mike   35   Chicago\n"
     ]
    }
   ],
   "source": [
    "#From a JSON file: \n",
    "import pandas as pd\n",
    "\n",
    "# Reading from a JSON file\n",
    "df = pd.read_json(\"D:\\jupyter notebook\\Pandas\\data.json\")\n",
    "print(df)\n"
   ]
  },
  {
   "cell_type": "code",
   "execution_count": 4,
   "id": "5d636daf-5cfa-408e-a9c7-c296ec24134f",
   "metadata": {},
   "outputs": [
    {
     "name": "stdout",
     "output_type": "stream",
     "text": [
      "   name  age\n",
      "0  John   30\n",
      "1  Anna   25\n"
     ]
    },
    {
     "name": "stderr",
     "output_type": "stream",
     "text": [
      "C:\\Users\\lokes\\AppData\\Local\\Temp\\ipykernel_17332\\713404008.py:5: FutureWarning: Passing literal json to 'read_json' is deprecated and will be removed in a future version. To read from a literal string, wrap it in a 'StringIO' object.\n",
      "  df = pd.read_json(json_str)\n"
     ]
    }
   ],
   "source": [
    "#From a JSON string:\n",
    "import pandas as pd\n",
    "\n",
    "json_str = '{\"name\": [\"John\", \"Anna\"], \"age\": [30, 25]}'\n",
    "df = pd.read_json(json_str)\n",
    "print(df)"
   ]
  },
  {
   "cell_type": "code",
   "execution_count": 7,
   "id": "84667bcb-09dc-4e9c-8282-fb48a4a413e8",
   "metadata": {},
   "outputs": [
    {
     "name": "stdout",
     "output_type": "stream",
     "text": [
      "    userId   id                                              title  \\\n",
      "0        1    1  sunt aut facere repellat provident occaecati e...   \n",
      "1        1    2                                       qui est esse   \n",
      "2        1    3  ea molestias quasi exercitationem repellat qui...   \n",
      "3        1    4                               eum et est occaecati   \n",
      "4        1    5                                 nesciunt quas odio   \n",
      "..     ...  ...                                                ...   \n",
      "95      10   96  quaerat velit veniam amet cupiditate aut numqu...   \n",
      "96      10   97         quas fugiat ut perspiciatis vero provident   \n",
      "97      10   98                        laboriosam dolor voluptates   \n",
      "98      10   99  temporibus sit alias delectus eligendi possimu...   \n",
      "99      10  100              at nam consequatur ea labore ea harum   \n",
      "\n",
      "                                                 body  \n",
      "0   quia et suscipit\\nsuscipit recusandae consequu...  \n",
      "1   est rerum tempore vitae\\nsequi sint nihil repr...  \n",
      "2   et iusto sed quo iure\\nvoluptatem occaecati om...  \n",
      "3   ullam et saepe reiciendis voluptatem adipisci\\...  \n",
      "4   repudiandae veniam quaerat sunt sed\\nalias aut...  \n",
      "..                                                ...  \n",
      "95  in non odio excepturi sint eum\\nlabore volupta...  \n",
      "96  eum non blanditiis soluta porro quibusdam volu...  \n",
      "97  doloremque ex facilis sit sint culpa\\nsoluta a...  \n",
      "98  quo deleniti praesentium dicta non quod\\naut e...  \n",
      "99  cupiditate quo est a modi nesciunt soluta\\nips...  \n",
      "\n",
      "[100 rows x 4 columns]\n"
     ]
    }
   ],
   "source": [
    "#From a JSON API response:\n",
    "import pandas as pd\n",
    "import requests\n",
    "\n",
    "# Make a request to a public JSON API\n",
    "response = requests.get('https://jsonplaceholder.typicode.com/posts')\n",
    "\n",
    "# Get the JSON data from the response\n",
    "data = response.json()\n",
    "\n",
    "# Convert the JSON data into a Pandas DataFrame\n",
    "df = pd.DataFrame(data)\n",
    "\n",
    "# Display the DataFrame\n",
    "print(df)"
   ]
  },
  {
   "cell_type": "markdown",
   "id": "b1f6d404-34da-4c61-8c6b-651db3170d15",
   "metadata": {},
   "source": [
    "Writing DataFrame to JSON"
   ]
  },
  {
   "cell_type": "code",
   "execution_count": 8,
   "id": "4fc3ca37-b369-4369-946b-5fd0e45dba2d",
   "metadata": {},
   "outputs": [],
   "source": [
    "#To a JSON file: You can export a DataFrame to a JSON file using the to_json() method.\n",
    "import pandas as pd\n",
    "\n",
    "data = {'name': ['John', 'Anna'], \n",
    "\n",
    "# Writing to a JSON file\n",
    "df.to_json('output.json')"
   ]
  },
  {
   "cell_type": "code",
   "execution_count": 9,
   "id": "18536577-1a6b-441c-adc5-29d23f5f1518",
   "metadata": {},
   "outputs": [
    {
     "name": "stdout",
     "output_type": "stream",
     "text": [
      "   name  age\n",
      "0  John   30\n",
      "1  Anna   25\n"
     ]
    }
   ],
   "source": [
    "df = pd.read_json(\"output.json\")\n",
    "print(df)"
   ]
  },
  {
   "cell_type": "code",
   "execution_count": 10,
   "id": "bf6b29a6-46ae-4cfc-a662-b87a4914e09e",
   "metadata": {},
   "outputs": [
    {
     "name": "stdout",
     "output_type": "stream",
     "text": [
      "{\"name\":{\"0\":\"John\",\"1\":\"Anna\"},\"age\":{\"0\":30,\"1\":25}}\n"
     ]
    }
   ],
   "source": [
    "#To a JSON string: If you want to convert a DataFrame to a JSON string, you can also use the to_json() method.\n",
    "import pandas as pd\n",
    "\n",
    "data = {'name': ['John', 'Anna'], 'age': [30, 25]}\n",
    "df = pd.DataFrame(data)\n",
    "\n",
    "# Convert to JSON string\n",
    "json_str = df.to_json()\n",
    "print(json_str)\n"
   ]
  },
  {
   "cell_type": "code",
   "execution_count": 11,
   "id": "183530c8-171e-4f0d-8e50-631a1b40a4d8",
   "metadata": {},
   "outputs": [
    {
     "data": {
      "text/plain": [
       "str"
      ]
     },
     "execution_count": 11,
     "metadata": {},
     "output_type": "execute_result"
    }
   ],
   "source": [
    "type(json_str)"
   ]
  },
  {
   "cell_type": "markdown",
   "id": "03957e99-0883-4395-b670-139a165aee78",
   "metadata": {},
   "source": [
    "Reading and Writing Complex JSON"
   ]
  },
  {
   "cell_type": "code",
   "execution_count": 15,
   "id": "fdbbead9-27df-43af-9e49-b48bcfec37f6",
   "metadata": {},
   "outputs": [
    {
     "name": "stdout",
     "output_type": "stream",
     "text": [
      "   name  age      city\n",
      "0  John   30  New York\n",
      "1  Anna   25    London\n",
      "2  Mike   35   Chicago\n"
     ]
    },
    {
     "name": "stderr",
     "output_type": "stream",
     "text": [
      "C:\\Users\\lokes\\AppData\\Local\\Temp\\ipykernel_17332\\1683285929.py:15: FutureWarning: Passing literal json to 'read_json' is deprecated and will be removed in a future version. To read from a literal string, wrap it in a 'StringIO' object.\n",
      "  df = pd.json_normalize(pd.read_json(json_data)['employees'])\n"
     ]
    }
   ],
   "source": [
    "import pandas as pd\n",
    "\n",
    "# Sample complex JSON\n",
    "json_data = '''\n",
    "{\n",
    "   \"employees\": [\n",
    "      {\"name\": \"John\", \"age\": 30, \"city\": \"New York\"},\n",
    "      {\"name\": \"Anna\", \"age\": 25, \"city\": \"London\"},\n",
    "      {\"name\": \"Mike\", \"age\": 35, \"city\": \"Chicago\"}\n",
    "   ]\n",
    "}\n",
    "'''\n",
    "\n",
    "# Loading JSON data into DataFrame\n",
    "df = pd.json_normalize(pd.read_json(json_data)['employees'])\n",
    "print(df)\n",
    "\n",
    "# Writing DataFrame back to JSON\n",
    "df.to_json('complex_output.json', orient='records', lines=True)"
   ]
  },
  {
   "cell_type": "code",
   "execution_count": null,
   "id": "6e8a8427-389c-4219-bc01-53d0aaad227a",
   "metadata": {},
   "outputs": [],
   "source": []
  }
 ],
 "metadata": {
  "kernelspec": {
   "display_name": "Python 3 (ipykernel)",
   "language": "python",
   "name": "python3"
  },
  "language_info": {
   "codemirror_mode": {
    "name": "ipython",
    "version": 3
   },
   "file_extension": ".py",
   "mimetype": "text/x-python",
   "name": "python",
   "nbconvert_exporter": "python",
   "pygments_lexer": "ipython3",
   "version": "3.10.10"
  }
 },
 "nbformat": 4,
 "nbformat_minor": 5
}
