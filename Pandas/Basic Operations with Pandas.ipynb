{
 "cells": [
  {
   "cell_type": "markdown",
   "id": "ea1b4010-410c-40fd-9633-aedb7a9f19b9",
   "metadata": {},
   "source": [
    "Importing Pandas:"
   ]
  },
  {
   "cell_type": "code",
   "execution_count": 1,
   "id": "231a90a7-2f8d-4b02-9e9b-d4063d12c337",
   "metadata": {},
   "outputs": [],
   "source": [
    "import pandas as pd"
   ]
  },
  {
   "cell_type": "markdown",
   "id": "178bc0e7-c0c9-4115-a253-a92537e9e74c",
   "metadata": {},
   "source": [
    "Creating a Series:"
   ]
  },
  {
   "cell_type": "code",
   "execution_count": 2,
   "id": "b808637d-f42a-4b94-9b1e-30473b942dcb",
   "metadata": {},
   "outputs": [
    {
     "name": "stdout",
     "output_type": "stream",
     "text": [
      "0    1\n",
      "1    2\n",
      "2    3\n",
      "3    4\n",
      "4    5\n",
      "dtype: int64\n"
     ]
    }
   ],
   "source": [
    "# Creating a Series from a list\n",
    "data = [1, 2, 3, 4, 5]\n",
    "series = pd.Series(data)\n",
    "print(series)\n"
   ]
  },
  {
   "cell_type": "markdown",
   "id": "2149dcdc-28b4-4cf5-a388-74cc84c3b50f",
   "metadata": {},
   "source": [
    "Creating a DataFrame:"
   ]
  },
  {
   "cell_type": "code",
   "execution_count": 3,
   "id": "95fb5c64-7a33-40fa-acd5-99e789eff9d4",
   "metadata": {},
   "outputs": [
    {
     "name": "stdout",
     "output_type": "stream",
     "text": [
      "      Name  Age         City\n",
      "0    Alice   25     New York\n",
      "1      Bob   30  Los Angeles\n",
      "2  Charlie   35      Chicago\n",
      "3    David   40      Houston\n"
     ]
    }
   ],
   "source": [
    "# Creating a DataFrame from a dictionary\n",
    "data = {\n",
    "    'Name': ['Alice', 'Bob', 'Charlie', 'David'],\n",
    "    'Age': [25, 30, 35, 40],\n",
    "    'City': ['New York', 'Los Angeles', 'Chicago', 'Houston']\n",
    "}\n",
    "df = pd.DataFrame(data)\n",
    "print(df)\n"
   ]
  },
  {
   "cell_type": "markdown",
   "id": "e9a8c3e8-bff4-4eae-a6d4-f384ad368297",
   "metadata": {},
   "source": [
    "Reading Data from a CSV File:"
   ]
  },
  {
   "cell_type": "code",
   "execution_count": 7,
   "id": "eafc3ed5-9631-495a-b480-cacac91fa173",
   "metadata": {},
   "outputs": [
    {
     "name": "stdout",
     "output_type": "stream",
     "text": [
      "      Name  Age\n",
      "0    Alice   25\n",
      "1      Bob   30\n",
      "2  Charlie   35\n",
      "3    David   28\n",
      "4     Emma   22\n"
     ]
    }
   ],
   "source": [
    "# Reading data from a CSV file\n",
    "df = pd.read_csv(r\"D:\\jupyter notebook\\Pandas\\name_age_dataset.csv\")\n",
    "print(df.head())  # Display the first five rows"
   ]
  },
  {
   "cell_type": "markdown",
   "id": "ea411342-39d2-4ef7-8289-ddb99d65d26e",
   "metadata": {},
   "source": [
    "Data Selection and Filtering:"
   ]
  },
  {
   "cell_type": "code",
   "execution_count": 8,
   "id": "b0e8e284-4ef6-40f5-80df-62bd58d06c98",
   "metadata": {},
   "outputs": [
    {
     "name": "stdout",
     "output_type": "stream",
     "text": [
      "      Name  Age\n",
      "2  Charlie   35\n",
      "5    Frank   40\n",
      "8      Ian   33\n"
     ]
    }
   ],
   "source": [
    "# Selecting a single column\n",
    "ages = df['Age']\n",
    "\n",
    "# Filtering rows based on a condition\n",
    "df_above_30 = df[df['Age'] > 30]\n",
    "print(df_above_30)"
   ]
  },
  {
   "cell_type": "markdown",
   "id": "c791d808-9a00-4699-9646-40965d1766a0",
   "metadata": {},
   "source": [
    "Handling Missing Data:"
   ]
  },
  {
   "cell_type": "code",
   "execution_count": 9,
   "id": "89d73c63-79a2-4e13-bb5c-b8ee52ee2be8",
   "metadata": {},
   "outputs": [],
   "source": [
    "# Filling missing values with a specified value\n",
    "df.fillna(0, inplace=True)\n",
    "\n",
    "# Dropping rows with missing values\n",
    "df.dropna(inplace=True)"
   ]
  },
  {
   "cell_type": "markdown",
   "id": "879a4bfd-e508-479f-b75a-3716002e351a",
   "metadata": {},
   "source": [
    "Data Aggregation and Grouping:"
   ]
  },
  {
   "cell_type": "code",
   "execution_count": 12,
   "id": "f7c5d215-7518-46fc-af2f-c4b87d27f458",
   "metadata": {},
   "outputs": [
    {
     "name": "stdout",
     "output_type": "stream",
     "text": [
      "          Age\n",
      "Name         \n",
      "Alice    25.0\n",
      "Bob      30.0\n",
      "Charlie  35.0\n",
      "David    28.0\n",
      "Emma     22.0\n",
      "Frank    40.0\n",
      "Grace    27.0\n",
      "Hannah   24.0\n",
      "Ian      33.0\n",
      "Julia    29.0\n"
     ]
    }
   ],
   "source": [
    "# Grouping data by a column and calculating the mean\n",
    "grouped = df.groupby('Name').mean()\n",
    "print(grouped)\n"
   ]
  },
  {
   "cell_type": "markdown",
   "id": "0d944043-ece2-4e11-aad3-c36ab89cd8f3",
   "metadata": {},
   "source": [
    "Merging and Joining DataFrames:"
   ]
  },
  {
   "cell_type": "code",
   "execution_count": 13,
   "id": "a2c299c2-8058-420d-8963-35c6dbb1ed02",
   "metadata": {},
   "outputs": [
    {
     "name": "stdout",
     "output_type": "stream",
     "text": [
      "   A  B  C\n",
      "0  1  4  7\n",
      "1  2  5  8\n",
      "2  3  6  9\n"
     ]
    }
   ],
   "source": [
    "# Merging two DataFrames\n",
    "df1 = pd.DataFrame({'A': [1, 2, 3], 'B': [4, 5, 6]})\n",
    "df2 = pd.DataFrame({'A': [1, 2, 3], 'C': [7, 8, 9]})\n",
    "merged_df = pd.merge(df1, df2, on='A')\n",
    "print(merged_df)"
   ]
  }
 ],
 "metadata": {
  "kernelspec": {
   "display_name": "Python 3 (ipykernel)",
   "language": "python",
   "name": "python3"
  },
  "language_info": {
   "codemirror_mode": {
    "name": "ipython",
    "version": 3
   },
   "file_extension": ".py",
   "mimetype": "text/x-python",
   "name": "python",
   "nbconvert_exporter": "python",
   "pygments_lexer": "ipython3",
   "version": "3.10.10"
  }
 },
 "nbformat": 4,
 "nbformat_minor": 5
}
