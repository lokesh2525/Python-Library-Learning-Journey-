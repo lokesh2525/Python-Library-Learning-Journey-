{
 "cells": [
  {
   "cell_type": "code",
   "execution_count": 2,
   "id": "26820397-0aaa-45b4-9f3f-8243e795aa73",
   "metadata": {},
   "outputs": [],
   "source": [
    "##reading different data sources with the help of pandas\n",
    "from io import StringIO\n"
   ]
  },
  {
   "cell_type": "code",
   "execution_count": 5,
   "id": "e6bf2d89-cd5f-4b24-9564-80df82e2a8ee",
   "metadata": {},
   "outputs": [
    {
     "data": {
      "text/html": [
       "<div>\n",
       "<style scoped>\n",
       "    .dataframe tbody tr th:only-of-type {\n",
       "        vertical-align: middle;\n",
       "    }\n",
       "\n",
       "    .dataframe tbody tr th {\n",
       "        vertical-align: top;\n",
       "    }\n",
       "\n",
       "    .dataframe thead th {\n",
       "        text-align: right;\n",
       "    }\n",
       "</style>\n",
       "<table border=\"1\" class=\"dataframe\">\n",
       "  <thead>\n",
       "    <tr style=\"text-align: right;\">\n",
       "      <th></th>\n",
       "      <th>Date</th>\n",
       "      <th>Open</th>\n",
       "      <th>High</th>\n",
       "      <th>Low</th>\n",
       "      <th>Close</th>\n",
       "      <th>Volume</th>\n",
       "    </tr>\n",
       "  </thead>\n",
       "  <tbody>\n",
       "    <tr>\n",
       "      <th>0</th>\n",
       "      <td>2022-6-9</td>\n",
       "      <td>95.50</td>\n",
       "      <td>97.95</td>\n",
       "      <td>95.20</td>\n",
       "      <td>95.55</td>\n",
       "      <td>10734990</td>\n",
       "    </tr>\n",
       "    <tr>\n",
       "      <th>1</th>\n",
       "      <td>2022-6-10</td>\n",
       "      <td>95.80</td>\n",
       "      <td>96.50</td>\n",
       "      <td>93.45</td>\n",
       "      <td>93.90</td>\n",
       "      <td>9311255</td>\n",
       "    </tr>\n",
       "    <tr>\n",
       "      <th>2</th>\n",
       "      <td>2022-6-13</td>\n",
       "      <td>93.15</td>\n",
       "      <td>93.15</td>\n",
       "      <td>90.25</td>\n",
       "      <td>92.05</td>\n",
       "      <td>12132084</td>\n",
       "    </tr>\n",
       "    <tr>\n",
       "      <th>3</th>\n",
       "      <td>2022-6-14</td>\n",
       "      <td>91.55</td>\n",
       "      <td>94.15</td>\n",
       "      <td>91.30</td>\n",
       "      <td>92.45</td>\n",
       "      <td>7573116</td>\n",
       "    </tr>\n",
       "    <tr>\n",
       "      <th>4</th>\n",
       "      <td>2022-6-15</td>\n",
       "      <td>94.25</td>\n",
       "      <td>95.75</td>\n",
       "      <td>91.85</td>\n",
       "      <td>92.85</td>\n",
       "      <td>16896789</td>\n",
       "    </tr>\n",
       "  </tbody>\n",
       "</table>\n",
       "</div>"
      ],
      "text/plain": [
       "        Date   Open   High    Low  Close    Volume\n",
       "0   2022-6-9  95.50  97.95  95.20  95.55  10734990\n",
       "1  2022-6-10  95.80  96.50  93.45  93.90   9311255\n",
       "2  2022-6-13  93.15  93.15  90.25  92.05  12132084\n",
       "3  2022-6-14  91.55  94.15  91.30  92.45   7573116\n",
       "4  2022-6-15  94.25  95.75  91.85  92.85  16896789"
      ]
     },
     "execution_count": 5,
     "metadata": {},
     "output_type": "execute_result"
    }
   ],
   "source": [
    "import pandas as pd\n",
    "df=pd.read_csv(r\"C:\\Users\\lokes\\Downloads\\gail data.csv\")\n",
    "df.head()"
   ]
  },
  {
   "cell_type": "code",
   "execution_count": 6,
   "id": "9fbfbbfa-d479-47b9-b624-a67b638fb3b0",
   "metadata": {},
   "outputs": [
    {
     "name": "stdout",
     "output_type": "stream",
     "text": [
      "<class 'pandas.core.frame.DataFrame'>\n",
      "RangeIndex: 490 entries, 0 to 489\n",
      "Data columns (total 6 columns):\n",
      " #   Column  Non-Null Count  Dtype  \n",
      "---  ------  --------------  -----  \n",
      " 0   Date    490 non-null    object \n",
      " 1   Open    490 non-null    float64\n",
      " 2   High    490 non-null    float64\n",
      " 3   Low     490 non-null    float64\n",
      " 4   Close   490 non-null    float64\n",
      " 5   Volume  490 non-null    int64  \n",
      "dtypes: float64(4), int64(1), object(1)\n",
      "memory usage: 23.1+ KB\n"
     ]
    }
   ],
   "source": [
    "df.info()"
   ]
  },
  {
   "cell_type": "code",
   "execution_count": 7,
   "id": "7aad397a-fada-4018-bd31-bfaaf19e9ba6",
   "metadata": {},
   "outputs": [
    {
     "data": {
      "text/html": [
       "<div>\n",
       "<style scoped>\n",
       "    .dataframe tbody tr th:only-of-type {\n",
       "        vertical-align: middle;\n",
       "    }\n",
       "\n",
       "    .dataframe tbody tr th {\n",
       "        vertical-align: top;\n",
       "    }\n",
       "\n",
       "    .dataframe thead th {\n",
       "        text-align: right;\n",
       "    }\n",
       "</style>\n",
       "<table border=\"1\" class=\"dataframe\">\n",
       "  <thead>\n",
       "    <tr style=\"text-align: right;\">\n",
       "      <th></th>\n",
       "      <th>Open</th>\n",
       "      <th>High</th>\n",
       "      <th>Low</th>\n",
       "      <th>Close</th>\n",
       "      <th>Volume</th>\n",
       "    </tr>\n",
       "  </thead>\n",
       "  <tbody>\n",
       "    <tr>\n",
       "      <th>count</th>\n",
       "      <td>490.000000</td>\n",
       "      <td>490.000000</td>\n",
       "      <td>490.000000</td>\n",
       "      <td>490.000000</td>\n",
       "      <td>4.900000e+02</td>\n",
       "    </tr>\n",
       "    <tr>\n",
       "      <th>mean</th>\n",
       "      <td>117.734796</td>\n",
       "      <td>119.321429</td>\n",
       "      <td>115.925816</td>\n",
       "      <td>117.598571</td>\n",
       "      <td>1.657169e+07</td>\n",
       "    </tr>\n",
       "    <tr>\n",
       "      <th>std</th>\n",
       "      <td>37.403896</td>\n",
       "      <td>38.181098</td>\n",
       "      <td>36.482918</td>\n",
       "      <td>37.334655</td>\n",
       "      <td>1.158904e+07</td>\n",
       "    </tr>\n",
       "    <tr>\n",
       "      <th>min</th>\n",
       "      <td>79.100000</td>\n",
       "      <td>80.150000</td>\n",
       "      <td>77.500000</td>\n",
       "      <td>79.300000</td>\n",
       "      <td>8.691070e+05</td>\n",
       "    </tr>\n",
       "    <tr>\n",
       "      <th>25%</th>\n",
       "      <td>89.675000</td>\n",
       "      <td>90.800000</td>\n",
       "      <td>88.337500</td>\n",
       "      <td>89.525000</td>\n",
       "      <td>9.144671e+06</td>\n",
       "    </tr>\n",
       "    <tr>\n",
       "      <th>50%</th>\n",
       "      <td>102.825000</td>\n",
       "      <td>104.050000</td>\n",
       "      <td>102.025000</td>\n",
       "      <td>103.100000</td>\n",
       "      <td>1.310113e+07</td>\n",
       "    </tr>\n",
       "    <tr>\n",
       "      <th>75%</th>\n",
       "      <td>127.862500</td>\n",
       "      <td>131.062500</td>\n",
       "      <td>126.312500</td>\n",
       "      <td>129.512500</td>\n",
       "      <td>1.978615e+07</td>\n",
       "    </tr>\n",
       "    <tr>\n",
       "      <th>max</th>\n",
       "      <td>209.950000</td>\n",
       "      <td>213.650000</td>\n",
       "      <td>208.650000</td>\n",
       "      <td>209.550000</td>\n",
       "      <td>8.478419e+07</td>\n",
       "    </tr>\n",
       "  </tbody>\n",
       "</table>\n",
       "</div>"
      ],
      "text/plain": [
       "             Open        High         Low       Close        Volume\n",
       "count  490.000000  490.000000  490.000000  490.000000  4.900000e+02\n",
       "mean   117.734796  119.321429  115.925816  117.598571  1.657169e+07\n",
       "std     37.403896   38.181098   36.482918   37.334655  1.158904e+07\n",
       "min     79.100000   80.150000   77.500000   79.300000  8.691070e+05\n",
       "25%     89.675000   90.800000   88.337500   89.525000  9.144671e+06\n",
       "50%    102.825000  104.050000  102.025000  103.100000  1.310113e+07\n",
       "75%    127.862500  131.062500  126.312500  129.512500  1.978615e+07\n",
       "max    209.950000  213.650000  208.650000  209.550000  8.478419e+07"
      ]
     },
     "execution_count": 7,
     "metadata": {},
     "output_type": "execute_result"
    }
   ],
   "source": [
    "df.describe()"
   ]
  },
  {
   "cell_type": "code",
   "execution_count": 9,
   "id": "5ff46a3f-21d9-4f04-ae1b-682010817d19",
   "metadata": {},
   "outputs": [],
   "source": [
    "df.to_csv(\"test.csv\")"
   ]
  },
  {
   "cell_type": "code",
   "execution_count": 25,
   "id": "742d3a2c-747d-4735-8581-390fe9fc17d7",
   "metadata": {},
   "outputs": [],
   "source": [
    "data=(\"a,b,c,d\\n\"\n",
    "      \"1,2,3,4\\n\"\n",
    "     \"1,2,3,4\\n\"\n",
    "     \"1,2,3\\n\")"
   ]
  },
  {
   "cell_type": "code",
   "execution_count": 26,
   "id": "e647fbe4-fb81-489f-a7d5-b3a46f8deb74",
   "metadata": {},
   "outputs": [],
   "source": [
    "df=pd.read_csv(StringIO(data),dtype='object')"
   ]
  },
  {
   "cell_type": "code",
   "execution_count": 29,
   "id": "700448f4-35e1-4a48-9ab2-4fec78bec9ca",
   "metadata": {},
   "outputs": [
    {
     "name": "stdout",
     "output_type": "stream",
     "text": [
      "<class 'pandas.core.frame.DataFrame'>\n",
      "RangeIndex: 3 entries, 0 to 2\n",
      "Data columns (total 4 columns):\n",
      " #   Column  Non-Null Count  Dtype \n",
      "---  ------  --------------  ----- \n",
      " 0   a       3 non-null      object\n",
      " 1   b       3 non-null      object\n",
      " 2   c       3 non-null      object\n",
      " 3   d       2 non-null      object\n",
      "dtypes: object(4)\n",
      "memory usage: 224.0+ bytes\n"
     ]
    },
    {
     "data": {
      "text/html": [
       "<div>\n",
       "<style scoped>\n",
       "    .dataframe tbody tr th:only-of-type {\n",
       "        vertical-align: middle;\n",
       "    }\n",
       "\n",
       "    .dataframe tbody tr th {\n",
       "        vertical-align: top;\n",
       "    }\n",
       "\n",
       "    .dataframe thead th {\n",
       "        text-align: right;\n",
       "    }\n",
       "</style>\n",
       "<table border=\"1\" class=\"dataframe\">\n",
       "  <thead>\n",
       "    <tr style=\"text-align: right;\">\n",
       "      <th></th>\n",
       "      <th>a</th>\n",
       "      <th>b</th>\n",
       "      <th>c</th>\n",
       "      <th>d</th>\n",
       "    </tr>\n",
       "  </thead>\n",
       "  <tbody>\n",
       "    <tr>\n",
       "      <th>0</th>\n",
       "      <td>1</td>\n",
       "      <td>2</td>\n",
       "      <td>3</td>\n",
       "      <td>4</td>\n",
       "    </tr>\n",
       "    <tr>\n",
       "      <th>1</th>\n",
       "      <td>1</td>\n",
       "      <td>2</td>\n",
       "      <td>3</td>\n",
       "      <td>4</td>\n",
       "    </tr>\n",
       "    <tr>\n",
       "      <th>2</th>\n",
       "      <td>1</td>\n",
       "      <td>2</td>\n",
       "      <td>3</td>\n",
       "      <td>NaN</td>\n",
       "    </tr>\n",
       "  </tbody>\n",
       "</table>\n",
       "</div>"
      ],
      "text/plain": [
       "   a  b  c    d\n",
       "0  1  2  3    4\n",
       "1  1  2  3    4\n",
       "2  1  2  3  NaN"
      ]
     },
     "execution_count": 29,
     "metadata": {},
     "output_type": "execute_result"
    }
   ],
   "source": [
    "df.info()\n",
    "df.head()"
   ]
  },
  {
   "cell_type": "code",
   "execution_count": 37,
   "id": "b475b6ae-1af8-411a-ba97-9796f5e54b59",
   "metadata": {},
   "outputs": [
    {
     "data": {
      "text/plain": [
       "a    0\n",
       "b    0\n",
       "c    0\n",
       "d    1\n",
       "dtype: int64"
      ]
     },
     "execution_count": 37,
     "metadata": {},
     "output_type": "execute_result"
    }
   ],
   "source": [
    "df.isnull().sum()"
   ]
  },
  {
   "cell_type": "code",
   "execution_count": 32,
   "id": "b570b6bb-2ed3-44aa-a9e7-15cb4c8a0de5",
   "metadata": {},
   "outputs": [
    {
     "data": {
      "text/plain": [
       "0    1\n",
       "1    1\n",
       "2    1\n",
       "Name: a, dtype: object"
      ]
     },
     "execution_count": 32,
     "metadata": {},
     "output_type": "execute_result"
    }
   ],
   "source": [
    "df[\"a\"]"
   ]
  },
  {
   "cell_type": "code",
   "execution_count": 33,
   "id": "b4b656eb-af13-40c1-9be1-e870fd88211f",
   "metadata": {},
   "outputs": [],
   "source": [
    "data=(\"a,b,c,d\\n\"\n",
    "      \"1,2,3,4\\n\"\n",
    "     \"1,2,3,4\\n\"\n",
    "     \"1,2,3\\n\")"
   ]
  },
  {
   "cell_type": "code",
   "execution_count": 36,
   "id": "483779e4-6a2b-4751-ae73-bf285fd2ead8",
   "metadata": {},
   "outputs": [],
   "source": [
    "df=pd.read_csv(StringIO(data),dtype={'a':int,'b':float,'c':int})"
   ]
  },
  {
   "cell_type": "code",
   "execution_count": 38,
   "id": "de4c5af8-d96e-402c-a959-d89b067817c6",
   "metadata": {},
   "outputs": [
    {
     "name": "stdout",
     "output_type": "stream",
     "text": [
      "<class 'pandas.core.frame.DataFrame'>\n",
      "RangeIndex: 3 entries, 0 to 2\n",
      "Data columns (total 4 columns):\n",
      " #   Column  Non-Null Count  Dtype  \n",
      "---  ------  --------------  -----  \n",
      " 0   a       3 non-null      int32  \n",
      " 1   b       3 non-null      float64\n",
      " 2   c       3 non-null      int32  \n",
      " 3   d       2 non-null      float64\n",
      "dtypes: float64(2), int32(2)\n",
      "memory usage: 200.0 bytes\n"
     ]
    }
   ],
   "source": [
    "df.info()"
   ]
  },
  {
   "cell_type": "code",
   "execution_count": 39,
   "id": "33d0e9cc-d70c-4d43-87e2-7f60b58f678d",
   "metadata": {},
   "outputs": [],
   "source": [
    "data=(\"index,a,b,c,d\\n\"\n",
    "      \"1,2,orange,3,4\\n\"\n",
    "     \"1,2,3,4\\n\"\n",
    "     \"1,2,cow,3\\n\")"
   ]
  },
  {
   "cell_type": "code",
   "execution_count": 44,
   "id": "b18ecc3c-5f7a-45ae-ae56-249415b7f20a",
   "metadata": {},
   "outputs": [],
   "source": [
    "df=pd.read_csv(StringIO(data),index_col=0)"
   ]
  },
  {
   "cell_type": "code",
   "execution_count": 45,
   "id": "8bbd971a-01e4-408d-9cfa-310edeceaaa0",
   "metadata": {},
   "outputs": [
    {
     "data": {
      "text/html": [
       "<div>\n",
       "<style scoped>\n",
       "    .dataframe tbody tr th:only-of-type {\n",
       "        vertical-align: middle;\n",
       "    }\n",
       "\n",
       "    .dataframe tbody tr th {\n",
       "        vertical-align: top;\n",
       "    }\n",
       "\n",
       "    .dataframe thead th {\n",
       "        text-align: right;\n",
       "    }\n",
       "</style>\n",
       "<table border=\"1\" class=\"dataframe\">\n",
       "  <thead>\n",
       "    <tr style=\"text-align: right;\">\n",
       "      <th></th>\n",
       "      <th>a</th>\n",
       "      <th>b</th>\n",
       "      <th>c</th>\n",
       "      <th>d</th>\n",
       "    </tr>\n",
       "    <tr>\n",
       "      <th>index</th>\n",
       "      <th></th>\n",
       "      <th></th>\n",
       "      <th></th>\n",
       "      <th></th>\n",
       "    </tr>\n",
       "  </thead>\n",
       "  <tbody>\n",
       "    <tr>\n",
       "      <th>1</th>\n",
       "      <td>2</td>\n",
       "      <td>orange</td>\n",
       "      <td>3</td>\n",
       "      <td>4.0</td>\n",
       "    </tr>\n",
       "    <tr>\n",
       "      <th>1</th>\n",
       "      <td>2</td>\n",
       "      <td>3</td>\n",
       "      <td>4</td>\n",
       "      <td>NaN</td>\n",
       "    </tr>\n",
       "    <tr>\n",
       "      <th>1</th>\n",
       "      <td>2</td>\n",
       "      <td>cow</td>\n",
       "      <td>3</td>\n",
       "      <td>NaN</td>\n",
       "    </tr>\n",
       "  </tbody>\n",
       "</table>\n",
       "</div>"
      ],
      "text/plain": [
       "       a       b  c    d\n",
       "index                   \n",
       "1      2  orange  3  4.0\n",
       "1      2       3  4  NaN\n",
       "1      2     cow  3  NaN"
      ]
     },
     "execution_count": 45,
     "metadata": {},
     "output_type": "execute_result"
    }
   ],
   "source": [
    "df"
   ]
  },
  {
   "cell_type": "code",
   "execution_count": 46,
   "id": "2394825e-dce8-445b-8fea-a9be412e2b46",
   "metadata": {},
   "outputs": [],
   "source": [
    "#use index cols and usecols\n",
    "data=(\"index,a,b,c,d\\n\"\n",
    "      \"1,2,orange,3,4\\n\"\n",
    "     \"1,2,3,4\\n\"\n",
    "     \"1,2,cow,3\\n\")"
   ]
  },
  {
   "cell_type": "code",
   "execution_count": 47,
   "id": "2b14a6a3-0051-49bd-a640-a73555b725ae",
   "metadata": {},
   "outputs": [],
   "source": [
    "df=pd.read_csv(StringIO(data),usecols=['b','c'])"
   ]
  },
  {
   "cell_type": "code",
   "execution_count": 48,
   "id": "01f7ac40-9a4c-4649-85f8-7f65c2df136d",
   "metadata": {},
   "outputs": [
    {
     "data": {
      "text/html": [
       "<div>\n",
       "<style scoped>\n",
       "    .dataframe tbody tr th:only-of-type {\n",
       "        vertical-align: middle;\n",
       "    }\n",
       "\n",
       "    .dataframe tbody tr th {\n",
       "        vertical-align: top;\n",
       "    }\n",
       "\n",
       "    .dataframe thead th {\n",
       "        text-align: right;\n",
       "    }\n",
       "</style>\n",
       "<table border=\"1\" class=\"dataframe\">\n",
       "  <thead>\n",
       "    <tr style=\"text-align: right;\">\n",
       "      <th></th>\n",
       "      <th>b</th>\n",
       "      <th>c</th>\n",
       "    </tr>\n",
       "  </thead>\n",
       "  <tbody>\n",
       "    <tr>\n",
       "      <th>0</th>\n",
       "      <td>orange</td>\n",
       "      <td>3</td>\n",
       "    </tr>\n",
       "    <tr>\n",
       "      <th>1</th>\n",
       "      <td>3</td>\n",
       "      <td>4</td>\n",
       "    </tr>\n",
       "    <tr>\n",
       "      <th>2</th>\n",
       "      <td>cow</td>\n",
       "      <td>3</td>\n",
       "    </tr>\n",
       "  </tbody>\n",
       "</table>\n",
       "</div>"
      ],
      "text/plain": [
       "        b  c\n",
       "0  orange  3\n",
       "1       3  4\n",
       "2     cow  3"
      ]
     },
     "execution_count": 48,
     "metadata": {},
     "output_type": "execute_result"
    }
   ],
   "source": [
    "df"
   ]
  },
  {
   "cell_type": "code",
   "execution_count": null,
   "id": "221897b7-5c33-464f-a6f8-54ddfe4fb39c",
   "metadata": {},
   "outputs": [],
   "source": []
  }
 ],
 "metadata": {
  "kernelspec": {
   "display_name": "Python 3 (ipykernel)",
   "language": "python",
   "name": "python3"
  },
  "language_info": {
   "codemirror_mode": {
    "name": "ipython",
    "version": 3
   },
   "file_extension": ".py",
   "mimetype": "text/x-python",
   "name": "python",
   "nbconvert_exporter": "python",
   "pygments_lexer": "ipython3",
   "version": "3.10.10"
  }
 },
 "nbformat": 4,
 "nbformat_minor": 5
}
